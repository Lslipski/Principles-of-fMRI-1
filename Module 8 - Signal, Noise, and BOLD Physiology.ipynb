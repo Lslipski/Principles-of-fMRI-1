{
 "cells": [
  {
   "cell_type": "markdown",
   "metadata": {},
   "source": [
    "# Module 8: Signal, Noise, and BOLD Physiology"
   ]
  },
  {
   "cell_type": "markdown",
   "metadata": {},
   "source": [
    "The most common type of fMRI uses <b>Blood Oxygenation Level Dependent (BOLD)</b> contrast, which measures the ratio of oxygenated to deoxygenated <i>hemoglobin</i> in the blood. This is not a direct measure of neuronal activity, but instead a measure of neuronal metabolism in the form of oxygen consumption. "
   ]
  },
  {
   "cell_type": "markdown",
   "metadata": {},
   "source": [
    "### Hemoglobin"
   ]
  },
  {
   "cell_type": "markdown",
   "metadata": {},
   "source": [
    "Hemoglobin exists in two states, each with a different local magnetic field:\n",
    "<ul>\n",
    "<li>Oxyhemoglobin is diamagnetic\n",
    "<li>Deoxyhemoglobin is paramagnetic\n",
    "</ul>\n",
    "\n",
    "BOLD fMRI makes use of the difference in $T_2*$ between oxy- and deoxy-hemoglobin. Deoxyhemoglobin suppresses the MR signal, so as the concentration of deoxyhemoglobin decreases, the MR signal increases.<img src='rcbf.png'>"
   ]
  },
  {
   "cell_type": "markdown",
   "metadata": {},
   "source": [
    "### BOLD Signal"
   ]
  },
  {
   "cell_type": "markdown",
   "metadata": {},
   "source": [
    "This process is characterized by the <b>hemodynamic response function</b>. This function describes how as neural activity increases, metabolic demand increases. As oxygenated blood flows in, that oxygen is extracted by the neurons, and the hemoglobin becomes deoxygenated (paramagnetic) which causes the $T_2*$ signal to decrease (a faster decay of the signal). "
   ]
  },
  {
   "cell_type": "markdown",
   "metadata": {},
   "source": [
    "This initial increase in deoxyhemoglobin and decrease in the BOLD signal is called the \"initial dip.\""
   ]
  },
  {
   "cell_type": "markdown",
   "metadata": {},
   "source": [
    "However, the blood flow over compensates and quickly dilutes the deoxyhemoglobin, changing the net balance toward oxyhemoglobin. This will cause a peak at around 4-6 seconds after activation."
   ]
  },
  {
   "cell_type": "markdown",
   "metadata": {},
   "source": [
    "As the blood flow to the area reduces, but local blood volume remains high, the balance shifts back toward deoxyhemoglobin, and the BOLD signal decreases to an amplitude below its baseline.<img src='hrf.png'>"
   ]
  },
  {
   "cell_type": "markdown",
   "metadata": {},
   "source": [
    "### HRF Properties"
   ]
  },
  {
   "cell_type": "markdown",
   "metadata": {},
   "source": [
    "<ul>\n",
    "<li>Magnitude of signal is only 0.1 to 5%, which is hard to observe\n",
    "<li>Response is delayed and slow\n",
    "<li>The exact shape of the reponse varies across subjects and regions"
   ]
  },
  {
   "cell_type": "markdown",
   "metadata": {},
   "source": [
    "But how well does it reflect neuronal activity?\n",
    "\n",
    "It correlates very well with local field potentials (LFP), which are the electrical field potentials surrounding a group of neurons. This field potential often is good for reflecting post-synaptic activity. Further, the stronger the field strength, the better the localization (reduced point-spread function).\n",
    "\n",
    "<b>Note</b> It does not reflect the firing rate, but the post-synaptic activity"
   ]
  },
  {
   "cell_type": "markdown",
   "metadata": {},
   "source": [
    "However, it does not always reflect changes in neuronal activity. For example, in anticipatory vasodilation and vascular \"blood steal\" fMRI will find BOLD signals due to hemodynamic processes that are unrelated to the task in question. <img src='multiple.png'>"
   ]
  },
  {
   "cell_type": "markdown",
   "metadata": {},
   "source": [
    "As we can see here, BOLD usually reflects pooled local field potential activity."
   ]
  },
  {
   "cell_type": "markdown",
   "metadata": {},
   "source": [
    "### Basic Quality Control: Assessing SNR"
   ]
  },
  {
   "cell_type": "markdown",
   "metadata": {},
   "source": [
    "#### Definitions"
   ]
  },
  {
   "cell_type": "markdown",
   "metadata": {},
   "source": [
    "<b>Signal-to-noise ratio (SNR)</b> is the strength of the signal divided by an estimate of <i>noise variability</i>. This is a measure of <i>effect size</i>.\n",
    "\n",
    "<b>Contrast-to-noise ratio (CNR)</b> is the difference between two signals divided by an estimate of noise variability.\n",
    "\n",
    "Calculating these two ratios will be done <b>spatially</b> across one image, and <b>temporally</b> calculated at each voxel over time."
   ]
  },
  {
   "cell_type": "markdown",
   "metadata": {},
   "source": [
    "#### Single Image Measures"
   ]
  },
  {
   "cell_type": "markdown",
   "metadata": {},
   "source": [
    "These are calculated on a single image, yielding one statistic per image.\n",
    "\n",
    "<b>Spatial SNR</b> is the mean intensity within a signal area of interest ($\\mu_A$) divided by the standard deviation outside of the signal area ($\\sigma_N$).\n",
    "\n",
    "<b>Spatial CNR</b> is the difference in intensity between two tissue types (gray and white matter below) divided by the variability (the pooled standard deviation) in the measurements: $(\\mu_{T1} - \\mu_{T2})/\\sigma_{T1,2}$"
   ]
  },
  {
   "cell_type": "markdown",
   "metadata": {},
   "source": [
    "#### Time Series Measure"
   ]
  },
  {
   "cell_type": "markdown",
   "metadata": {},
   "source": [
    "These are calculated at each voxel across a period of time.\n",
    "\n",
    "<b>Temporal SNR (or functional SNR)</b> is the mean signal across time divided by the standard deviation (variability) across time, $\\mu_v/\\sigma_v$. This is also called the signal-to-fluctuation-noise ratios (SFNR) when the data is temporally detrended.\n",
    "\n",
    "<b>Temporal CNR (or signal sensitivity)</b> is the difference in intensity for \"on\" vs. \"off\" task states divided by the variability. It is related to the sensitivity of the signal to the task."
   ]
  },
  {
   "cell_type": "markdown",
   "metadata": {},
   "source": [
    "#### BOLD Scaling"
   ]
  },
  {
   "cell_type": "markdown",
   "metadata": {},
   "source": [
    "The absolute scaling of BOLD response is arbitrary. It depends on:\n",
    "<ul>\n",
    "<li>field strength\n",
    "<li>pulse sequence and gain on amplifiers\n",
    "<li>acquisition parameters: TR, TE, voxel size, and flip angle\n",
    "<li>tissue type: local concentration of water\n",
    "<li>analysis variables\n",
    "</ul>\n",
    "\n"
   ]
  },
  {
   "cell_type": "markdown",
   "metadata": {},
   "source": [
    "<b>Note</b> - the implications of this are that most values are reported in arbitrary values (A.U.s) or as percent signal change. This allows internal reliability within a study, but makes external comparisons to studies with different scanners and parameters difficult."
   ]
  },
  {
   "cell_type": "markdown",
   "metadata": {},
   "source": [
    "#### Non-linearity in the BOLD Response"
   ]
  },
  {
   "cell_type": "markdown",
   "metadata": {},
   "source": [
    "BOLD is roughly linear, but there are <i>refractory effects</i> or <i>saturation</i> which reduce the amplitude of the response as a function of inter-stimulus intervals. This makes sense when considering the lag in blood flow you might expect given a task such as two successive hand claps."
   ]
  },
  {
   "cell_type": "markdown",
   "metadata": {},
   "source": [
    "If the simuli are spaced closer than 5-6 seconds apart, a reduction of about 10% will be seen in the BOLD signal for the second stimulus. There can also be non-linearities in the shape of the response, which are very difficult to account for in an analysis, so they should be minimized with experimental design. <img src='nonlinearity.png'>"
   ]
  },
  {
   "cell_type": "markdown",
   "metadata": {},
   "source": [
    "Without non-linearity, the response to two events would be twice as high as one event. The response to five events would be 3 times as high (not 5 because of shifting in time). But instead what we see is <i>saturation</i> to the repeated events and the responses are about half of what we expect."
   ]
  }
 ],
 "metadata": {
  "kernelspec": {
   "display_name": "Python 3",
   "language": "python",
   "name": "python3"
  },
  "language_info": {
   "codemirror_mode": {
    "name": "ipython",
    "version": 3
   },
   "file_extension": ".py",
   "mimetype": "text/x-python",
   "name": "python",
   "nbconvert_exporter": "python",
   "pygments_lexer": "ipython3",
   "version": "3.6.1"
  }
 },
 "nbformat": 4,
 "nbformat_minor": 2
}
