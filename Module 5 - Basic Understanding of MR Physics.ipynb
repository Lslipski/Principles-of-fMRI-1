{
 "cells": [
  {
   "cell_type": "markdown",
   "metadata": {},
   "source": [
    "# Module 5 - Basic Understanding of MR Physics"
   ]
  },
  {
   "cell_type": "markdown",
   "metadata": {},
   "source": [
    "The MR scanner has a strong magnetic field of 1.5 - 7.0 Tesla (Earth's magnetic field is 0.00005 Tesla). Both MRI and fMRI use the same magnet, and different types of images can be generated to create varying degrees of contrast between brain tissues."
   ]
  },
  {
   "cell_type": "markdown",
   "metadata": {},
   "source": [
    "### Example: A Single Proton"
   ]
  },
  {
   "cell_type": "markdown",
   "metadata": {},
   "source": [
    "A proton can be viewed as a positively charged, spinning sphere with a magnetic moment along the axis of its spin.<img src='proton.png'>"
   ]
  },
  {
   "cell_type": "markdown",
   "metadata": {},
   "source": [
    "With MR, we can measure the <i>net magnetization</i> of the ensemble of Hydrogen atoms within a volume. This magnetization, $M$, can be viewed as a vector with a <i>longitudinal</i> component, parallel to the magnetic field and a <i>transverse</i> element, orthogonal to the field."
   ]
  },
  {
   "cell_type": "markdown",
   "metadata": {},
   "source": [
    "In the absense of a strong external magnet, protons will be randomly oriented:<img src='random.png'>"
   ]
  },
  {
   "cell_type": "markdown",
   "metadata": {},
   "source": [
    "When a strong magnetic field is introduced, the nuclei align with the field producing a net longitudinal magnetization in the direction of the field.<img src='align.png'>"
   ]
  },
  {
   "cell_type": "markdown",
   "metadata": {},
   "source": [
    "Now aligned, the nuclei continue to process about their field with an angular frequency (Larmor frequency), but again, their phases are random: <img src='randomphase.png'>"
   ]
  },
  {
   "cell_type": "markdown",
   "metadata": {},
   "source": [
    "Using a radio frequency pulse, these nuclei can be aligned in phase and then \"tipped over\", reducing the longitudinal magnetization and creating a strong transversal magnetization.<img src='phasealign.png'>\n",
    "<img src='transversealign.png'>"
   ]
  },
  {
   "cell_type": "markdown",
   "metadata": {},
   "source": [
    "<b>Definition</b> - When the RF pulse is removed, the transverse magnetization will decrease as the nuclei tend to return to their orignal, longitudinal orientations. This is called <b>Longitudinal relaxation</b>.\n",
    "\n",
    "The process of longitudinal relaxation creates a signal that can be measured using a reciever coil. This is the basic signal that is used in MRI. \n",
    "\n",
    "The process can be represented as an exponential growth described by a time constant, $T1$.<img src='t1.png'>\n",
    "\n",
    "Different tissue types in the brain have different $T1$ values.<img src='t1values.png'>\n",
    "\n",
    "<b>Transverse Relaxation</b> is the loss of net magnetization in the transverse plane due to a loss of phase coherence (the nuclei stop processing uniformly).\n",
    "\n",
    "This process can be represented as an exponential decay described by a time constant, $T2$. <img src='t2.png'>"
   ]
  },
  {
   "cell_type": "markdown",
   "metadata": {},
   "source": [
    "### Image Contrast"
   ]
  },
  {
   "cell_type": "markdown",
   "metadata": {},
   "source": [
    "We can control which of these 2 characteristics is emphasized by altering:<br>\n",
    "1.) How often we excite the nuclei ($TR$)<br>\n",
    "2.) How soon after excitation we begin data collection<b> time echo</b> ($TE$)"
   ]
  },
  {
   "cell_type": "markdown",
   "metadata": {},
   "source": [
    "The measured signal is equal to approximately:$$M_0(1-e^{-TR/T_1})e^{-TE/T_2}$$\n",
    "\n",
    "\n",
    "Where $M_0$ is the core net magnetization, a term that depends on $TR$ and $T_1$, and a second term that depends on $TE$ and $T_2$.\n",
    "\n",
    "We can control $TE$ and $TR$, and $T_1$ and $T_2$ are tissue properties."
   ]
  },
  {
   "cell_type": "markdown",
   "metadata": {},
   "source": [
    "### Image Formation"
   ]
  },
  {
   "cell_type": "markdown",
   "metadata": {},
   "source": [
    "MRI will construct a matrix of numbers that correspond to spatial locations. This image depicts the spatial distribution of some property of the nuclei within one sample. This property could be:<br>\n",
    "1.) The <i>density</i> of nuclei <br>\n",
    "2.) The <i>relaxation time</i> of the tissues in which they reside \n",
    "<img src='contrast.png'>"
   ]
  },
  {
   "cell_type": "markdown",
   "metadata": {},
   "source": [
    "\n",
    "One final effect to account for is that during T2, when the protons are\n",
    "de-phasing, there may be other inhomogeneities nearby which cause the de-phasing to happen more quickly. We can program the scanner to eliminate the effects of these inhomogeneities, or to emphasize them. \n",
    "\n",
    "This is called $T_{2}^*$. Emphasizing the effect of these $T_2^*$ inhomogeneities is the basis of BOLD fMRI."
   ]
  },
  {
   "cell_type": "markdown",
   "metadata": {},
   "source": [
    "### Imaging Summary"
   ]
  },
  {
   "cell_type": "markdown",
   "metadata": {},
   "source": [
    "Images can be produced that are specifically attuned to capture $T_1$, $T_2$, or $T_2^*$. Because $T_1$ and $T_2$ vary with tissue type, they are able to show boundaries between CSF, and gray and white matter.\n",
    "\n",
    "Because $T_2^*$ is sensitive to blood flow and oxygenation, it can be used to image neural activation."
   ]
  }
 ],
 "metadata": {
  "kernelspec": {
   "display_name": "Python 3",
   "language": "python",
   "name": "python3"
  },
  "language_info": {
   "codemirror_mode": {
    "name": "ipython",
    "version": 3
   },
   "file_extension": ".py",
   "mimetype": "text/x-python",
   "name": "python",
   "nbconvert_exporter": "python",
   "pygments_lexer": "ipython3",
   "version": "3.6.1"
  }
 },
 "nbformat": 4,
 "nbformat_minor": 2
}
