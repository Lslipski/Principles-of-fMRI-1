{
 "cells": [
  {
   "cell_type": "markdown",
   "metadata": {},
   "source": [
    "# Module 23: Group-level Analysis 1"
   ]
  },
  {
   "cell_type": "markdown",
   "metadata": {},
   "source": [
    "To recap, we have voxels within images, \n",
    "images within runs\n",
    "runs within sessions\n",
    "sessions within subjects\n",
    "and subjects within groups\n",
    "<img src='hierarchal.png'>"
   ]
  },
  {
   "cell_type": "markdown",
   "metadata": {},
   "source": [
    "### Multi-level Model"
   ]
  },
  {
   "cell_type": "markdown",
   "metadata": {},
   "source": [
    "Once we've run the first level models dealing with individual differences, we can begin the second level modeling which deals with <b>groups of subjects</b>. This could mean cases vs. controls, or individual differences looking at differences between brain activity and patient-level characteristics such as age.\n",
    "\n",
    "Note that all inference is still typically performed in the massive univariate setting."
   ]
  },
  {
   "cell_type": "markdown",
   "metadata": {},
   "source": [
    "### Framework: Working backwards from a Group Result"
   ]
  },
  {
   "cell_type": "markdown",
   "metadata": {},
   "source": [
    "If we start with our results of a test statistic (t-test) for each voxel, we can look to see if our contrast values differ significantly between test and control groups.\n",
    "<img src='groupresult.png'>"
   ]
  },
  {
   "cell_type": "markdown",
   "metadata": {},
   "source": [
    "We want to know if those contrast values are significantly different from 0 in the group. At the level of a single voxel, this looks like this: \n",
    "<img src='fullanalysis.png'>"
   ]
  },
  {
   "cell_type": "markdown",
   "metadata": {},
   "source": [
    "This score all the way on the right, yields a contrast value for each subject."
   ]
  },
  {
   "cell_type": "markdown",
   "metadata": {},
   "source": [
    "### The Full Analysis: Two-level model, one voxel"
   ]
  },
  {
   "cell_type": "markdown",
   "metadata": {},
   "source": [
    "In the movie shown in the lecture, we can see the entire process from individual design and contrast at one voxel repeated over a group of subjects, and the process of group analysis using the one-sample t-test."
   ]
  },
  {
   "cell_type": "markdown",
   "metadata": {},
   "source": [
    "We can see for one voxel that we do a partial fit both trial types A and B, and then the fit with all trial types together. We can then see the estimated responses and the differences in terms of the hemodynamic response. The greater the difference here, the greater the contrast value.\n",
    "\n",
    "That contrast value is then plotted in chart on the bottom right. We see the analysis repeated several times. In the first analysis (E+D) all the subjects are identical and the only noise is from the fMRI random noise (noise realization). \n",
    "\n",
    "In the second analysis (E+Di) we've randomized the order of the events, which induces design-related inefficiency, so we end up with slightly more noise variance (spread in the contrast points). \n",
    "\n",
    "In the third analysis we've added in the fact that there are real differences across individuals, which adds further noise variance. \n",
    "\n",
    "This noise variance makes the statistics more difficult and that's what we have to overcome, but this is a realistic situation. You will likely have variation due to the fMRI scanner, variation due to the design matrix itself, and variation due to the individual difference in true levels of activation across people."
   ]
  },
  {
   "cell_type": "markdown",
   "metadata": {},
   "source": [
    "### Repeated measures"
   ]
  },
  {
   "cell_type": "markdown",
   "metadata": {},
   "source": [
    "This analysis maps onto a repeated measures analysis. \n",
    "\n",
    "We had 1 or more within person predictors, and now we have just one simple within-subject contrast (this is the GLM). First we'll be dealing with the simple summary statistic case, which makes use of the one-sample t-test. And later we'll look at models that account more completely for correlated errors (time series)."
   ]
  }
 ],
 "metadata": {
  "kernelspec": {
   "display_name": "Python 3",
   "language": "python",
   "name": "python3"
  },
  "language_info": {
   "codemirror_mode": {
    "name": "ipython",
    "version": 3
   },
   "file_extension": ".py",
   "mimetype": "text/x-python",
   "name": "python",
   "nbconvert_exporter": "python",
   "pygments_lexer": "ipython3",
   "version": "3.6.4"
  }
 },
 "nbformat": 4,
 "nbformat_minor": 2
}
