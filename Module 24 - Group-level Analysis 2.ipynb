{
 "cells": [
  {
   "cell_type": "markdown",
   "metadata": {},
   "source": [
    "# Module 24: Group-level Analysis 2"
   ]
  },
  {
   "cell_type": "markdown",
   "metadata": {},
   "source": [
    "Multi-level models have been developed for analyzing hierarchically structured data, which is what our fMRI data is. They allow difference variance components to be introduced at each level (within-/between-subject variance). And they provide a framework for conducting mixed-effects analysis."
   ]
  },
  {
   "cell_type": "markdown",
   "metadata": {},
   "source": [
    "### Mixed Effects Models"
   ]
  },
  {
   "cell_type": "markdown",
   "metadata": {},
   "source": [
    "<b>Note</b>: that \"mixed effects models\", \"hierarchical models\", and \"random effects (RFX) models\" all refer to the samething in neuroimaging. \n",
    "\n",
    "They model multiple sources of variation (\"variance components\"). This is in contrast to \"fixed effects models\", which model only one variance component. \n",
    "\n",
    "The big difference here is whether we model <b>subject or participant</b> as a random effect or a fixed effect."
   ]
  },
  {
   "cell_type": "markdown",
   "metadata": {},
   "source": [
    "### Mixed-Effects Analysis"
   ]
  },
  {
   "cell_type": "markdown",
   "metadata": {},
   "source": [
    "In this analysis the signal strength varies across sessions and subjects, and there are two sources of variation:\n",
    "<ol>\n",
    "    <li><b>Measurement error</b> which are all of the things we can't account for with the experimental design, such as head movement.\n",
    "    <li><b>Response Magnitude</b> which means that each subject/session has a random magnitude for their true response. This is to say all of our subjects are different.\n",
    "</ol>\n",
    "But there is some fixed population mean for activation."
   ]
  },
  {
   "cell_type": "markdown",
   "metadata": {},
   "source": [
    "#### Data With One Source of Error"
   ]
  },
  {
   "cell_type": "markdown",
   "metadata": {},
   "source": [
    "In this animation we look at replications of one subject's experiment, where the only error source is measurement error. What we see with the red line is that each time we sample, there is some amount of variance. The true response magnitude is fixed for the population (the black line), so the significance is based on the estimated response relative to the measurement error variance. \n",
    "<img src='onesource.png'>"
   ]
  },
  {
   "cell_type": "markdown",
   "metadata": {},
   "source": [
    "#### Data with Two Sources of Error"
   ]
  },
  {
   "cell_type": "markdown",
   "metadata": {},
   "source": [
    "In this animation we can still see the population mean fixed (the black line), but now we can see the individual differences about that mean between subjects (green line), and we also have variation about the individual differences due to measurement error (red line). \n",
    "\n",
    "So here we have 2 sources of variation: the measurement error (scan-to-scan and individual differences (subject-to-subject). \n",
    "\n",
    "<b>Note</b>: Only by including both sources of error in the error term can we generalize to unobserved subjects. And this is what it means to treat the individual as a random effect. \n",
    "<img src='twosource.png'>"
   ]
  },
  {
   "cell_type": "markdown",
   "metadata": {},
   "source": [
    "### Fixed vs. Random Effects"
   ]
  },
  {
   "cell_type": "markdown",
   "metadata": {},
   "source": [
    "<b>Fixed Effects</b> are always the same from experiment to experiment. The levels are not drawn from a random variable. Examples include sex (M/F), Drug Type (Prozac), etc.\n",
    "\n",
    "<b>Random Effects</b> have levels that are randomly drawn from a population. The quintessential random effect is Subject. We assume that we sampled our subjects randomly from the larger population. Other examples include the words chosen in an experiment with verbal materials because these words are chosen from a larger population of words."
   ]
  },
  {
   "cell_type": "markdown",
   "metadata": {},
   "source": [
    "<b>Note</b>: in a mixed effects model, we can choose whether to model each effect as either fixed or random. "
   ]
  },
  {
   "cell_type": "markdown",
   "metadata": {},
   "source": [
    "#### Implications of making an effect fixed or random"
   ]
  },
  {
   "cell_type": "markdown",
   "metadata": {},
   "source": [
    "The variance across each level of a random effect is included as a source of error in the model. So when we take the t-statistic we take the estimate of the effect divided by its standard error, and that error includes variability from level-to-level of anything modeled as a random effect. This allows us to generalize to unobserved levels. \n",
    "\n",
    "If the effect is treated as fixed, the error terms in the model do not include variability across levels. In this case we can't generalize to unobserved levels.\n",
    "\n",
    "<b>Note</b>: This means that if we treat subject as a fixed effect, we cannot generalize to unobserved subjects, which is something we virtually always want to be able to do."
   ]
  },
  {
   "cell_type": "markdown",
   "metadata": {},
   "source": [
    "This kind of group analysis uses summary statistics, which is a simple kind of random effects model. On the left we see a first-level analysis which is a GLM within each person. We follow that through to find a contrast image for each person. \n",
    "\n",
    "We take the contrast images from all of those individuals and put them into a second level design matrix. In this case, the design matrix inclues all 1s, which is a 1-sample t-test. We conduct this and get a group result.\n",
    "\n",
    "<img src='group1.png'>"
   ]
  },
  {
   "cell_type": "markdown",
   "metadata": {},
   "source": [
    "The <b>advantages</b> of this approach are that it's easy to do, it's optimal if within-person precisions are equal, and it is fairly robust to violations in terms of false positives (though we can lose sensitivity in some cases)."
   ]
  },
  {
   "cell_type": "markdown",
   "metadata": {},
   "source": [
    "With the fixed-effects approach (WRONG) the GLM is created on data that is concatenated across subjects.\n",
    "\n",
    "This assumes that the only source of error is the within-scanner noise. It also tests the mean effect against within-subjects error. And it does not account for between-subjects error at all, which we know there to be. \n",
    "\n",
    "<img src='fixedgroup.png'>"
   ]
  },
  {
   "cell_type": "markdown",
   "metadata": {},
   "source": [
    "So even though each participant gets their own slope we can't make any inferences that will generalize to the larger population."
   ]
  }
 ],
 "metadata": {
  "kernelspec": {
   "display_name": "Python 3",
   "language": "python",
   "name": "python3"
  },
  "language_info": {
   "codemirror_mode": {
    "name": "ipython",
    "version": 3
   },
   "file_extension": ".py",
   "mimetype": "text/x-python",
   "name": "python",
   "nbconvert_exporter": "python",
   "pygments_lexer": "ipython3",
   "version": "3.6.4"
  }
 },
 "nbformat": 4,
 "nbformat_minor": 2
}
