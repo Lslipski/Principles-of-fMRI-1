{
 "cells": [
  {
   "cell_type": "markdown",
   "metadata": {},
   "source": [
    "# Module 12.1 Kinds of Designs Part 1"
   ]
  },
  {
   "cell_type": "markdown",
   "metadata": {},
   "source": [
    "<b>Design</b> concerns include:\n",
    "<li>How many independent variables will be manipulated and at what levels\n",
    "<li>How different levels sampled?\n",
    "<li>Which measured variables will be included as explanatory variables?\n",
    "\n",
    "<b>Trial</b> concerns include:\n",
    "<li>How will events be organized in time?\n",
    "<li>Blocked/event related/mixed, rapid/single trial/partial trial"
   ]
  },
  {
   "cell_type": "markdown",
   "metadata": {},
   "source": [
    "### Kinds of Designs"
   ]
  },
  {
   "cell_type": "markdown",
   "metadata": {},
   "source": [
    "All of the following are versions of the Generlized Linear Model:\n",
    "\n",
    "<b>Subtraction designs</b> - Basic contrast<br>\n",
    "<b>Individual Differences</b> - Correlations with behavior, outcomes<br>\n",
    "<b>Process overlap/dissociation designs</b> - multiple subtractions<br>\n",
    "<b>Factorial designs</b> - ANOVA <br>\n",
    "<b>Parametric modulation</b> - Performance-related effects within subjects"
   ]
  },
  {
   "cell_type": "markdown",
   "metadata": {},
   "source": [
    "### New Kinds of Designs"
   ]
  },
  {
   "cell_type": "markdown",
   "metadata": {},
   "source": [
    "Not all of these are handled by GLM:\n",
    "<ul>\n",
    "<li>Mediation designs\n",
    "<li>Designing for connectivity\n",
    "<li>Designing for classification/prediction\n",
    "<li>Designing for the use of brain-based outcomes\n",
    "<li>Designing for representational similarity analysis"
   ]
  },
  {
   "cell_type": "markdown",
   "metadata": {},
   "source": [
    "### Design Tradeoffs"
   ]
  },
  {
   "cell_type": "markdown",
   "metadata": {},
   "source": [
    "<b>Ideal Form</b> - One object for one purpose. These studies have fewer conditions and contrasts. They have more power, but less generalizability and specificity. These are good for the first studies in a new field, where you don't really know what to expect.\n",
    "\n",
    "<b>Swiss Army Knife</b> - Many comparisons, high potential for specificity of inference, but low power. These are good for later studies that have more complete background information. "
   ]
  },
  {
   "cell_type": "markdown",
   "metadata": {},
   "source": [
    "### Types of Variables"
   ]
  },
  {
   "cell_type": "markdown",
   "metadata": {},
   "source": [
    "<b>Within-person</b> variables occur when each subject is going to serve as its own control. The variable will be manipulated across time/trials for each subject. Example: word type in a language study. Each subject will receive nouns, verbs, and adjectives at some point.\n",
    "\n",
    "<b>Between-person</b> variables are person-level characteristics, where each person will only recieve one value. Examples include age, test performance, group identity.\n",
    "\n",
    "<b>Note</b> Designs are characterized by the number and arrangement of within-person and between-person variables and by whether these variables are experimentally manipulated or observed.\n",
    "\n",
    "<img src='design.png'>"
   ]
  },
  {
   "cell_type": "markdown",
   "metadata": {
    "collapsed": true
   },
   "source": [
    "### Examples"
   ]
  },
  {
   "cell_type": "markdown",
   "metadata": {},
   "source": [
    "<b>Subtraction Design</b> Assumes \"Pure Insertion\" which assumes that processes in complex conditions are added on top of the processes of simpler condtions. For example, task B could be looking at a negative picture and task A would be reappraising that image in a way that makes it less negative to them. Task C is looking at a neutral picture. \n",
    "\n",
    "If we're interested in the reappraisal activity, we assume that looking at a neutral picture activates a set of visual processing activities. Then we assume that looking at a negative picture activates that same set, plus more activity to process it negatively. Then reappraisal requires all of that processing plus a reappraisal demand. So to get only the reappraisal processing we can simply subtract all the negative image activity from the reappraisal activity.<img src='reapp.png'>"
   ]
  },
  {
   "cell_type": "markdown",
   "metadata": {},
   "source": [
    "<b>Note</b> There are problems with the above assumptions. Processes may interact with context, and looking at a neutral picture may invoke different processes than a negative picture. Factorial designs can help test for these things and subtraction is still a decent bread and butter test for isolating activity."
   ]
  },
  {
   "cell_type": "markdown",
   "metadata": {},
   "source": [
    "<b>Correlations with Individual Differences</b> can increase specificity of the inference. In the negative image example, we would correlate contrast values in the image to emotional reports. We would have subjects look, then reappraise, then look, then reappraise, and voxel-by-voxel watch their fMRI signal change as their emotional report changes through the reappraisal process.\n",
    "\n",
    "This is a good experiment to do early on to give us an idea of where we should be looking more closely in the brain during this task."
   ]
  }
 ],
 "metadata": {
  "kernelspec": {
   "display_name": "Python 3",
   "language": "python",
   "name": "python3"
  },
  "language_info": {
   "codemirror_mode": {
    "name": "ipython",
    "version": 3
   },
   "file_extension": ".py",
   "mimetype": "text/x-python",
   "name": "python",
   "nbconvert_exporter": "python",
   "pygments_lexer": "ipython3",
   "version": "3.6.1"
  }
 },
 "nbformat": 4,
 "nbformat_minor": 2
}
