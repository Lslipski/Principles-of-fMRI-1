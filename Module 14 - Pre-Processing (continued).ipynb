{
 "cells": [
  {
   "cell_type": "markdown",
   "metadata": {},
   "source": [
    "# Module 14: Pre-Processing (continued)"
   ]
  },
  {
   "cell_type": "markdown",
   "metadata": {},
   "source": [
    "### Normalization"
   ]
  },
  {
   "cell_type": "markdown",
   "metadata": {},
   "source": [
    "Because the brain size of 2 subjects can differ up to about 30%, and the shape of the brains may differ substantially, we can normalize fMRI images so that they map on to some standard brain."
   ]
  },
  {
   "cell_type": "markdown",
   "metadata": {},
   "source": [
    "The structural T1 image used in coregistration is warped onto a template image:<img src='warp.png'>"
   ]
  },
  {
   "cell_type": "markdown",
   "metadata": {},
   "source": [
    "<b>Pros</b>\n",
    "<ul>\n",
    "<li>Spatial locations can be reported and interpreted in a consistent manner\n",
    "<li>Results can be generalized to larger populations\n",
    "<li>Results can be compared across studies\n",
    "<li>Results can be averaged across subjects\n",
    "</ul>\n",
    "<b>Cons</b>\n",
    "<ul>\n",
    "<li>Reduces spatial resolution\n",
    "<li>Introduces error\n",
    "</ul>"
   ]
  },
  {
   "cell_type": "markdown",
   "metadata": {},
   "source": [
    "But which standard image should the T1 image be mapped to?"
   ]
  },
  {
   "cell_type": "markdown",
   "metadata": {},
   "source": [
    "#### Brain Atlases"
   ]
  },
  {
   "cell_type": "markdown",
   "metadata": {},
   "source": [
    "<b>Talairach Space</b> (Talairach and Tournoux, 1988) is a brain image that is based on a single subject (cadaver of 60 year old female) and based on one hemisphere, with the origin set at the Anterior Commissure (AC). It is oriented such that a line between the Anterior Commissure and Posterior Commissure (PC) is horizontal.<img src='acpc.png'>"
   ]
  },
  {
   "cell_type": "markdown",
   "metadata": {},
   "source": [
    "<b>Montreal Neurological Institute (MNI)</b> is a brain image combining the MRI scans of 152 normal controls, all right handed. This image is likely more representative of the human population at large because it is based on 152 instead of 1 brain.<img src='mni.jpeg'>"
   ]
  },
  {
   "cell_type": "markdown",
   "metadata": {},
   "source": [
    "#### Normalization Methods"
   ]
  },
  {
   "cell_type": "markdown",
   "metadata": {},
   "source": [
    "<ul>\n",
    "<li>Landmark-based methods align anatomical features in different brains\n",
    "<li>Volume-based registration uses linear and nonlinear transformations (similar to coregistration)\n",
    "<li>Computational anatomy uses diffeomorphic transformations\n",
    "<li>Surface-based methods kind of blow up the brain and do normalization on cortical surfaces\n",
    "</ul>"
   ]
  },
  {
   "cell_type": "markdown",
   "metadata": {},
   "source": [
    "### Spatial Filtering"
   ]
  },
  {
   "cell_type": "markdown",
   "metadata": {},
   "source": [
    "In fMRI we spatially smooth the data prior to statistical analysis because this can help increase the signal-to-noise ratio and remove artifacts. It also validates statistical assumptions such as normally distributed data. By averaging over many voxels we can make this assumption more likely to be true. "
   ]
  },
  {
   "cell_type": "markdown",
   "metadata": {},
   "source": [
    "<b>Pros</b>\n",
    "<ul>\n",
    "<li>May overcome limitations in the normalization by blurring any residual anatomical differences\n",
    "<li>May increase SNR\n",
    "<li>May increase the validity of certain statistical tests \n",
    "<li>Required for Gaussian random fields (used in multiple comparisons)\n",
    "</ul>\n",
    "<b>Cons</b>\n",
    "<ul>\n",
    "<li>Reduces image resolution\n",
    "</ul>"
   ]
  },
  {
   "cell_type": "markdown",
   "metadata": {},
   "source": [
    "In spatial filtering, we often use a Gaussian kernel, the size of which is determined by its full-width-at-half-maximum value. This is the width of the kernel at 50% of its peak value.<img src='fwhm.png'>"
   ]
  },
  {
   "cell_type": "markdown",
   "metadata": {},
   "source": [
    "The relationship between this measurement and the standard deviation is: $$\\sigma=\\frac{FWHM}{2\\sqrt{2ln(2)}}$$"
   ]
  },
  {
   "cell_type": "markdown",
   "metadata": {},
   "source": [
    "<b>Note</b>: the matched filter theorem states that a filter that is matched to the signal will give optiumum signal to noise. (For more information on linear filters: <a href=\"https://github.com/Lslipski/Computational_Neuroscience/blob/master/2.%20Neural%20Encoding%20Models/2.2%20Neural%20Encoding%20-%20Simple%20Models.ipynb\">here</a>)"
   ]
  },
  {
   "cell_type": "markdown",
   "metadata": {},
   "source": [
    "Also, the amount of smoothing is chosen <i>a priori</i> and independently of the data and the amount of smoothing is applied throughout the whole image. So it's hard to get the smoothing filter correct, and it probably won't match the signal that happens across parts of the brain.\n",
    "\n",
    "To overcome this we may use adaptive smoothing such as non-stationary spatial Gaussian Markov random fields, where the smoothing varies across space and time."
   ]
  }
 ],
 "metadata": {
  "kernelspec": {
   "display_name": "Python 3",
   "language": "python",
   "name": "python3"
  },
  "language_info": {
   "codemirror_mode": {
    "name": "ipython",
    "version": 3
   },
   "file_extension": ".py",
   "mimetype": "text/x-python",
   "name": "python",
   "nbconvert_exporter": "python",
   "pygments_lexer": "ipython3",
   "version": "3.6.1"
  }
 },
 "nbformat": 4,
 "nbformat_minor": 2
}
