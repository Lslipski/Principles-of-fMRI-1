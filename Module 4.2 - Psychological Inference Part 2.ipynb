{
 "cells": [
  {
   "cell_type": "markdown",
   "metadata": {},
   "source": [
    "# Module 4.2: Psychological Inference Part 2"
   ]
  },
  {
   "cell_type": "markdown",
   "metadata": {},
   "source": [
    "Because many brain regions are involved in creating multiple brain states, it is very difficult to make reliable reverse inferences about the brain representations that underlie any task. \n",
    "\n",
    "But it can be done."
   ]
  },
  {
   "cell_type": "markdown",
   "metadata": {},
   "source": [
    "<b>Strategy 1</b>: Leverage Neuroscience to understand priors about the processes that do and don't activate a brain area, and assume that activation implies the psychological process.\n",
    "\n",
    "<b>Strategy 2</b>: Use Quantitative reverse inference and testing on multiple tasks, contexts, and populations to assess the activation of a region across a set of tasks and quantify the regions sensitivity, specificity, and positive/negative predictive values.\n",
    "\n",
    "Both of these should be used together, and it is the job of many studies to make the results robust. This is called a meta-analysis.\n",
    "<img src='meta.png'>\n",
    "Here we ask, given that the subjects activated S2, what is the probability that they are doing a pain task? This meta analysis compares the percentage of studies where S2 was activated across emotional, inhibition, long term memory, pain, attentional switching, and working memory tasks. This study found that the probability of pain given S2 activation (PPV) was quite high, compared to other types of tasks."
   ]
  },
  {
   "cell_type": "markdown",
   "metadata": {},
   "source": [
    "### What Brain Mapping Is Good for"
   ]
  },
  {
   "cell_type": "markdown",
   "metadata": {},
   "source": [
    "<ul>\n",
    "<li>Making inferences on the presense of activity to test a theory or characterize the pattern of brain responses to a task\n",
    "<li>Limit false positive rate to specified level\n",
    "<li>Use hypothesis testing to provide evidence on a theory, if that theory cares about the area in question"
   ]
  },
  {
   "cell_type": "markdown",
   "metadata": {},
   "source": [
    "### What Brain Mapping is NOT Good for"
   ]
  },
  {
   "cell_type": "markdown",
   "metadata": {},
   "source": [
    "<ul>\n",
    "<li>Reverse inference. It doesn't provide <i>direct</i> inferences about psychological states, and requires clever designs with specialized analysis\n",
    "<li>Establishing effect sizes and predictive accuracy\n",
    "<li>Testing assumptions. Inference depends on many assumptions that must be tested for each experiment.\n",
    "<li>Comparing evidence for different theories. A given model can show an effect and still be a bad model."
   ]
  }
 ],
 "metadata": {
  "kernelspec": {
   "display_name": "Python 3",
   "language": "python",
   "name": "python3"
  },
  "language_info": {
   "codemirror_mode": {
    "name": "ipython",
    "version": 3
   },
   "file_extension": ".py",
   "mimetype": "text/x-python",
   "name": "python",
   "nbconvert_exporter": "python",
   "pygments_lexer": "ipython3",
   "version": "3.6.1"
  }
 },
 "nbformat": 4,
 "nbformat_minor": 2
}
