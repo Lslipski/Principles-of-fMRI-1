{
 "cells": [
  {
   "cell_type": "markdown",
   "metadata": {},
   "source": [
    "# Module 7: K-Space"
   ]
  },
  {
   "cell_type": "markdown",
   "metadata": {},
   "source": [
    "It is important to note that there is not a one-to-one mapping from k-space to image space. Each point in k-space contains some information about every voxel. Said another way, each point in image space depends on <i>all</i> the points in k-space."
   ]
  },
  {
   "cell_type": "markdown",
   "metadata": {},
   "source": [
    "<b>Example</b> in one dimension we could look at 3 sinusoidal waves with varying frequencies. Imagine we took the linear combination of them using the coefficients 0.5, 2, and 1 respectively. The result is a new curve, and it is not clear which 3 curves went into its creation just by looking at it. \n",
    "\n",
    "However, if we take the Fourier transform of the new wave and plot it with Frequency on the x-axis, we can see 3 spikes that give us the 3 frequencies of the original sinusoids, and they're amplitudes tell us the coefficients of the linear combination. <img src='1d.png'>"
   ]
  },
  {
   "cell_type": "markdown",
   "metadata": {},
   "source": [
    "In k-space we do this in 2 dimensions. If we think of k-space as an x-y plane that is empty except for one single point up and to the left of the origin, when it transforms to to image space, we see a kind of 2D sinusoid. The farther the point is from the origin, the higher the frequency (lower periodicity).<img src='2d.png'>"
   ]
  },
  {
   "cell_type": "markdown",
   "metadata": {},
   "source": [
    "So each point in k-space gives us one of these waves and the relative weight of that wave. When we take the linear combination of those and use the inverse Fourier transform, we get the image that we actually want. We can visualize how this image weight could be thrown off by doubling one of the values (yellow dot below) and watching how a sine wave pattern appears on the previously clear image (bottom left). <img src='proof.png'>"
   ]
  },
  {
   "cell_type": "markdown",
   "metadata": {},
   "source": [
    "We can see how different regions of k-space effect the final image by using only the low-frequency (near the origin of k-space) data points, then only using the points on the outskirts of k-space (high frequency). What we find is that the low frequency gives us most of the image that looks like the brain, but the high frequency points give us the fine-grained detail that provide most of the detail in the final image.<img src='contrast1.png'>"
   ]
  },
  {
   "cell_type": "markdown",
   "metadata": {},
   "source": [
    "<b>Low spatial frequencies</b> represent parts of the object that change slowly in space (contrast)\n",
    "\n",
    "<b>High spatial frequencies</b> represent small structures whose size is on the same order as the voxel size (tissue boundaries)"
   ]
  },
  {
   "cell_type": "markdown",
   "metadata": {},
   "source": [
    "### Spatial Resolution"
   ]
  },
  {
   "cell_type": "markdown",
   "metadata": {},
   "source": [
    "The further out in k-space we go, the higher the spatial resolution will be. \n",
    "\n",
    "32 x 32 image means 1024 points sampled in k-space<br>\n",
    "64 x 64 image means 4096 points sampled in k-space<br>\n",
    "128 x 128 image means 16,384 points sampled in k-space. Which means we are going much farther out in k-space and getting data on much higher frequency waves, so we will be able to make out bondaries between CSF and white matter etc with good resolution."
   ]
  },
  {
   "cell_type": "markdown",
   "metadata": {},
   "source": [
    "However, this will take much longer to produce, so we cannot take the recordings as frequently. <img src='resolution.png'>"
   ]
  }
 ],
 "metadata": {
  "kernelspec": {
   "display_name": "Python 3",
   "language": "python",
   "name": "python3"
  },
  "language_info": {
   "codemirror_mode": {
    "name": "ipython",
    "version": 3
   },
   "file_extension": ".py",
   "mimetype": "text/x-python",
   "name": "python",
   "nbconvert_exporter": "python",
   "pygments_lexer": "ipython3",
   "version": "3.6.1"
  }
 },
 "nbformat": 4,
 "nbformat_minor": 2
}
