{
 "cells": [
  {
   "cell_type": "markdown",
   "metadata": {},
   "source": [
    "# Module 10.1: Spatial and Temporal Resolution of BOLD Part 1"
   ]
  },
  {
   "cell_type": "markdown",
   "metadata": {},
   "source": [
    "<b>MEG and EEG</b> have very good temporal resolution, but very poor spatial resolution, so it is hard to know if the signals are acutally coming from where you think they're coming from.\n",
    "<li>Temporal between 1ms and 1s\n",
    "<li>Spatial between 10cm and 100cm\n",
    "\n",
    "<b>PET</b> has reasonable spatial and temporal resolution\n",
    "<li>Temporal several to many minutes\n",
    "<li>1cm to 100cm (whole brain)\n",
    "\n",
    "<b>ASL fMRI</b> (Arterial Spin Labeling) can be great for temporal stability. For example, you can compare finger tapping tasks with a month in between activations.\n",
    "<li>Temporal 10s to many days\n",
    "<li>Spatial 1cm to about 100 cm\n",
    "\n",
    "<b>BOLD fMRI</b> has resolution in the middle. \n",
    "<li>Temporal 1s to 2 minutes\n",
    "<li>Spatial 1mm to 100 cm\n",
    "\n",
    "<img src='techniques.png'>"
   ]
  },
  {
   "cell_type": "markdown",
   "metadata": {},
   "source": [
    "fMRI and PET are the most common so far for publications in humans."
   ]
  },
  {
   "cell_type": "markdown",
   "metadata": {},
   "source": [
    "### What do we need to measure to extract information from the brain?"
   ]
  },
  {
   "cell_type": "markdown",
   "metadata": {},
   "source": [
    "<img src='scales.png'>"
   ]
  }
 ],
 "metadata": {
  "kernelspec": {
   "display_name": "Python 3",
   "language": "python",
   "name": "python3"
  },
  "language_info": {
   "codemirror_mode": {
    "name": "ipython",
    "version": 3
   },
   "file_extension": ".py",
   "mimetype": "text/x-python",
   "name": "python",
   "nbconvert_exporter": "python",
   "pygments_lexer": "ipython3",
   "version": "3.6.1"
  }
 },
 "nbformat": 4,
 "nbformat_minor": 2
}
