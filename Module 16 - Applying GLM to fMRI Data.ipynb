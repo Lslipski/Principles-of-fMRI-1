{
 "cells": [
  {
   "cell_type": "markdown",
   "metadata": {},
   "source": [
    "# Module 16: Applying GLM to fMRI Data"
   ]
  },
  {
   "cell_type": "markdown",
   "metadata": {},
   "source": [
    "### Mass Univariate Approach"
   ]
  },
  {
   "cell_type": "markdown",
   "metadata": {},
   "source": [
    "The typical analysis for fMRI is performed by constructing a separate model for each voxel. The brain activity in on voxel is the outcome variable (y). Stimulus, task, and behavioral variables are the predictors (x). \n",
    "\n",
    "The mass univariate approach assumes independence of each voxel."
   ]
  },
  {
   "cell_type": "markdown",
   "metadata": {},
   "source": [
    "<b>Example</b> Famous vs. Non-Famous faces in a single voxel. We will consider a block design of 20 second intervals. And an event-related design showing famous and non-famous faces with jitter. <br>\n",
    "<b>Block Design</b>:<br>\n",
    "<img src='fameblock.png'><br>\n",
    "<b>Event-Related Design</b>\n",
    "<img src='fameevent.png'>"
   ]
  },
  {
   "cell_type": "markdown",
   "metadata": {},
   "source": [
    "Notice that in the block related design, the $\\beta_1$ coefficient is accounting for the difference in the effect between famous and non famous faces. But in the event related design, famous and non-famous faces have their own $\\beta$ which account for the respective effects seperately."
   ]
  },
  {
   "cell_type": "markdown",
   "metadata": {},
   "source": [
    "### Hemodynamic Delay"
   ]
  },
  {
   "cell_type": "markdown",
   "metadata": {},
   "source": [
    "BOLD responses are delayed and dispersed relative to neural activity. Recall that the BOLD response peaks about 6 seconds <i>after</i> the neural activity of interest occurs. It may not return to baseline levels until 20 or 30 seconds after the stimulus occurs, and there is an initial undershoot before the peak.\n",
    "\n",
    "As a first pass, we will assume an impulse response model for the BOLD response that is a fixed linear combination of 2 gamma functions. It looks like this:\n",
    "<img src='gamma.png'>"
   ]
  },
  {
   "cell_type": "markdown",
   "metadata": {},
   "source": [
    "This is a pretty standard model used in many statistical packages like SPM (Statistical Parametric Mapping) and FSL (fMRIB Software Library). Information on these packages can be found here:\n",
    "SPM -- http://www.fil.ion.ucl.ac.uk/spm/\n",
    "FSL -- https://fsl.fmrib.ox.ac.uk/fsl/fslwiki/FSL"
   ]
  },
  {
   "cell_type": "markdown",
   "metadata": {},
   "source": [
    "### Building Predictors: Linear Time Invariant System"
   ]
  },
  {
   "cell_type": "markdown",
   "metadata": {},
   "source": [
    "To turn the the neural responses we collect into predictors in the GLM model, we can assume a Linear Time Invariant (LTI) system. Under this assumption, the neuronal activity acts as the <b>input</b> or <b>impulse</b> and the HRF acts as the <b>impulse response function</b>. This gives us a single solution (per voxel) for a brief neural event or a sustained epoch."
   ]
  },
  {
   "cell_type": "markdown",
   "metadata": {},
   "source": [
    "To do this, we will model the fMRI signal at time $t, x(t)$ as the convolution of a stimulus function $v(t)$ and the hemodynamic response $h(t)$, which gives $$x(t) = (v\\ast h)(t)$$"
   ]
  },
  {
   "cell_type": "markdown",
   "metadata": {},
   "source": [
    "<b>Note</b>: Recall that a convolution can also be considered a filter. When a function is convolved with its filter function (here the HRF) the parts of the function that are similar to the filter will be amplified. So a BOLD signal that looks similar to the above gamma model will be amplified, by the $x(t)$ convolution above. This concept is actually implemented by the brain's neural encoding system and is discussed at greater length here: https://github.com/Lslipski/Computational_Neuroscience/blob/master/2.%20Neural%20Encoding%20Models/2.2%20Neural%20Encoding%20-%20Simple%20Models.ipynb"
   ]
  },
  {
   "cell_type": "markdown",
   "metadata": {},
   "source": [
    "In the end, the convolution (predicted response) will look similar in shape to the neural response, but it will be smooth and slightly delayed in time:\n",
    "<img src='convo.png'>"
   ]
  },
  {
   "cell_type": "markdown",
   "metadata": {},
   "source": [
    "In the video shown in this lecture, the actual data on the back pane is convolved with the predicted data (these are the correct answers. In other words the expected values if the subject responded perfectly to the stimulus) on the bottom pane. Once convolved and shifted slightly in time, each data point exists in a 3D space of the predicted value (convolution value) x data (actual value) x time.\n",
    "\n",
    "Now, when we fit the model, we're actually fitting a plane averaging across time. The betas of this model (slopes) are actually the amplitudes of the convolved funtions (the blue line in the image).<img src='3dregress.png'>"
   ]
  },
  {
   "cell_type": "markdown",
   "metadata": {},
   "source": [
    "### With more than two types of events"
   ]
  },
  {
   "cell_type": "markdown",
   "metadata": {},
   "source": [
    "In this example we have four indicator functions (onsets) that take the value of either 1 or 0, telling when each of the four events is on. We can convolve this function with the assumed HRF (basis function) to produce a design matrix. In the literature this design matrix is typically shown as a type of raster plot.  <img src='designmat.png'>"
   ]
  }
 ],
 "metadata": {
  "kernelspec": {
   "display_name": "Python 3",
   "language": "python",
   "name": "python3"
  },
  "language_info": {
   "codemirror_mode": {
    "name": "ipython",
    "version": 3
   },
   "file_extension": ".py",
   "mimetype": "text/x-python",
   "name": "python",
   "nbconvert_exporter": "python",
   "pygments_lexer": "ipython3",
   "version": "3.6.5"
  }
 },
 "nbformat": 4,
 "nbformat_minor": 2
}
