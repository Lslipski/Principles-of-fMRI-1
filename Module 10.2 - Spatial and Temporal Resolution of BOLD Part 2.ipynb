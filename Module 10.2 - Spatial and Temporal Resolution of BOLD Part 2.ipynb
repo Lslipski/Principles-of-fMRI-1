{
 "cells": [
  {
   "cell_type": "markdown",
   "metadata": {},
   "source": [
    "# Module 10.2: Spatial and Temporal Resolution of BOLD Part 2"
   ]
  },
  {
   "cell_type": "markdown",
   "metadata": {},
   "source": [
    "### Causes and Limits of Resolution"
   ]
  },
  {
   "cell_type": "markdown",
   "metadata": {},
   "source": [
    "With fMRI we can measure the whole brain every 1-2 seconds. However, this means it cannot be extremely fine grained. What information do we gain or lose by improving or not improving resolution?"
   ]
  },
  {
   "cell_type": "markdown",
   "metadata": {},
   "source": [
    "### Spatial Resolution"
   ]
  },
  {
   "cell_type": "markdown",
   "metadata": {},
   "source": [
    "This can be relatively fine in principle. It is limited by the BOLD point-spread function and SNR, which depend on field strength, distance between coil and tissue, and vasculature.\n",
    "\n",
    "The upper limit here is high-field, high-resolution imaging with implanted coils (under skull on brain surface) at about 400$\\mu m$"
   ]
  },
  {
   "cell_type": "markdown",
   "metadata": {},
   "source": [
    "<b>Example</b> Visual cortical imaging at 7T. The primary visual cortex is retinotopically mapped. Polimeni et al. flashed alternating images of M-shaped objects and their surrounding field. <img src='polimeni1.png'><img src='polimeni2.png'>"
   ]
  },
  {
   "cell_type": "markdown",
   "metadata": {},
   "source": [
    "Where A to E range from Deep layers to more superficial layers."
   ]
  },
  {
   "cell_type": "markdown",
   "metadata": {},
   "source": [
    "#### BOLD Point-Spread Function"
   ]
  },
  {
   "cell_type": "markdown",
   "metadata": {},
   "source": [
    "This is related to the microvasculature bed area affected by local neuronal activity and blood flow, and it varies with field strength.\n",
    "<li> At 1.5T the PSF is course at about 4mm\n",
    "<li> At 3T the PSF is 3mm\n",
    "<li> At 7T it is about 2mm or less\n",
    "Measuring these is ongoing."
   ]
  },
  {
   "cell_type": "markdown",
   "metadata": {},
   "source": [
    "#### Effective Resolution in Group Analysis"
   ]
  },
  {
   "cell_type": "markdown",
   "metadata": {},
   "source": [
    "This is typically lower at about 10-15mm. This is due to artifacts, inter-subject normalization (trying to line up different brains with each other), individual differences in functional anatomy, and diffuse modulatory effects (BOLD signal is influenced by broad neuromodulators that effect much of the brain at once)."
   ]
  },
  {
   "cell_type": "markdown",
   "metadata": {},
   "source": [
    "<b>Spatial Alignment</b>\n",
    "<ul>\n",
    "<li>Match between functional and structural images is not exact, there is distortion of functional images (even for that person!)\n",
    "<li>Spatial misalignment between the structural and template (reference) image of a brain\n",
    "<li>Spatial misalignment between results and atlases used for localization\n",
    "</ul>"
   ]
  },
  {
   "cell_type": "markdown",
   "metadata": {},
   "source": [
    "<b>What this means</b>:\n",
    "<ol>\n",
    "<li>Create a mean anatomical image and use that as an underlay for functional results instead of an atlas. This will also be a way to identify inter-subject alignment problems.\n",
    "<li>Interpret anatomical locations with caution\n",
    "</ol>"
   ]
  },
  {
   "cell_type": "markdown",
   "metadata": {},
   "source": [
    "### New Solutions"
   ]
  },
  {
   "cell_type": "markdown",
   "metadata": {},
   "source": [
    "<b>Hyperacuity</b> is the phenomenon where a pattern of activity across voxels contains more information than any one voxel. This can sometimes detect functional topography even if voxels are not small enough to fit within one functional area.\n",
    "\n",
    "Neurons are often not intermixed randomly, but even if they are, information can be extracted. <img src='hyperacuity.png'>\n",
    "\n",
    "With a independent Poisson random field, the hit rate of the Poisson distribution varies across the field (high and low)\n",
    "\n",
    "<b>Note</b> What this means is that random does not mean uniform. Differences in neural activity at the fMRI voxel pattern level can be detected for all 3 types. Even if the neurons are randomly intermixed, it does not mean that the voxels will be correlated. This means classification of event types is still possible:\n",
    "<img src='mix.png'>"
   ]
  },
  {
   "cell_type": "markdown",
   "metadata": {},
   "source": [
    "<b>Hyperalignment</b> is using direct inter-subject alignment of brains in a functional space by having subjects watch a movie and using all their recorded activities to create a pooled functional space. This circumvents the need to normalize to atlases or reference images while permitting group analysis."
   ]
  },
  {
   "cell_type": "markdown",
   "metadata": {},
   "source": [
    "### Temporal Resolution"
   ]
  },
  {
   "cell_type": "markdown",
   "metadata": {},
   "source": [
    "EEG, MEG, and optical methods have much higher temporal resolution than fMRI. fMRI is delayed by the slow hemodynamic response function (onset at 2-3s and peaks at 5-6s)."
   ]
  },
  {
   "cell_type": "markdown",
   "metadata": {},
   "source": [
    "<b>Temporal hyperacuity</b> - if events are averaged, we can detect differences in response latency of about 100-200ms. <img src='th.png'>"
   ]
  },
  {
   "cell_type": "markdown",
   "metadata": {},
   "source": [
    "New rapid sampling methods also aid in this, where a whole brain can be scanned in 100-200ms. If we combine averaging over events and rapid sampling methods, this effect becomes more clear."
   ]
  },
  {
   "cell_type": "markdown",
   "metadata": {},
   "source": [
    "### Human Neuroimaging: Pushing the Boundaries"
   ]
  },
  {
   "cell_type": "markdown",
   "metadata": {},
   "source": [
    "This chart below shows the important boundaries in BOLD fMRI. The best case is important because it is at these spatial resolutions that we begin to see very complex and rich information processing in the brain.<img src='bound.png'>"
   ]
  }
 ],
 "metadata": {
  "kernelspec": {
   "display_name": "Python 3",
   "language": "python",
   "name": "python3"
  },
  "language_info": {
   "codemirror_mode": {
    "name": "ipython",
    "version": 3
   },
   "file_extension": ".py",
   "mimetype": "text/x-python",
   "name": "python",
   "nbconvert_exporter": "python",
   "pygments_lexer": "ipython3",
   "version": "3.6.1"
  }
 },
 "nbformat": 4,
 "nbformat_minor": 2
}
