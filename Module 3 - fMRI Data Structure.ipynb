{
 "cells": [
  {
   "cell_type": "markdown",
   "metadata": {},
   "source": [
    "#  Module 3: fMRI Data Structure"
   ]
  },
  {
   "cell_type": "markdown",
   "metadata": {},
   "source": [
    "### Spatial and Temporal Resolution"
   ]
  },
  {
   "cell_type": "markdown",
   "metadata": {},
   "source": [
    "<b>Temporal</b> resolution is determined by how quickly each image is acquired (TR). This is analgous to shutter speed on a camera. The more images we take, the more fine-grained a look we get at each voxel over time.\n",
    "\n",
    "Example: Functional (T2*) images have high temporal resolution, and can let us look at signal changes given an experimental manipulation, however they are more blurry. (High temporal, low spatial)\n",
    "\n",
    "<b>Spatial</b> resolution determines how well we can distinguish changes in an image across different locations within the image.\n",
    "\n",
    "Example: Structural (T1) images have very high spatial resolution and can be used to look at different tissue types in detail. However, it is just a static image and has no temporal resolution. (High spatial, low temporal)"
   ]
  },
  {
   "cell_type": "markdown",
   "metadata": {},
   "source": [
    "There are multiple views we can choose from:\n",
    "\n",
    "<img src='slice.png'>"
   ]
  },
  {
   "cell_type": "markdown",
   "metadata": {},
   "source": [
    "<b>Note</b> - MRI images are usually taken one at a time in different levels of the Axial slice above. They can be one at a time or interleaved, and these slices are compiled to create the 3D brain volume that is one full image of the brain."
   ]
  },
  {
   "cell_type": "markdown",
   "metadata": {},
   "source": [
    "### Image Acquisition Terms"
   ]
  },
  {
   "cell_type": "markdown",
   "metadata": {},
   "source": [
    "<b>Field of View (FOV)</b> - the amount (length in mm) of the brain that is contained in each slice. (example 192 mm)\n",
    "\n",
    "<b>Slice Thickness</b> - is how thick each slice is (example 3mm)\n",
    "\n",
    "<b>Matrix Size</b> - Each slice is then split up into a grid of voxels. In this example, the slice thickness is 3mm and the matrix size is 64x64. \n",
    "\n",
    "Because the FOV is 192 mm (192 / 64 = 3), the voxel size will be 3x3x3.\n",
    "\n",
    "<img src='fov.png'>"
   ]
  },
  {
   "cell_type": "markdown",
   "metadata": {},
   "source": [
    "### Terminology"
   ]
  },
  {
   "cell_type": "markdown",
   "metadata": {},
   "source": [
    "A voxel has some intensity associated with it and is 3 dimentional. Many voxels in a matrix form a <i>slice</i>. Many slices layered together form a <i>volume</i>. A series of volumes makes up a <i>run</i>. Multiple runs make up a <i>session</i>. Often times, <i>subjects</i> will go through multiple sessions to comprise one <i>experiment</i>."
   ]
  }
 ],
 "metadata": {
  "kernelspec": {
   "display_name": "Python 3",
   "language": "python",
   "name": "python3"
  },
  "language_info": {
   "codemirror_mode": {
    "name": "ipython",
    "version": 3
   },
   "file_extension": ".py",
   "mimetype": "text/x-python",
   "name": "python",
   "nbconvert_exporter": "python",
   "pygments_lexer": "ipython3",
   "version": "3.6.1"
  }
 },
 "nbformat": 4,
 "nbformat_minor": 2
}
