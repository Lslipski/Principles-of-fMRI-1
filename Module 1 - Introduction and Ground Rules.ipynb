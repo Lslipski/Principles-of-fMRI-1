{
 "cells": [
  {
   "cell_type": "markdown",
   "metadata": {},
   "source": [
    "# Module 1: Introduction and Ground Rules"
   ]
  },
  {
   "cell_type": "markdown",
   "metadata": {},
   "source": [
    "There are many types of neuro imaging available, but PET and fMRI are now very widely used:\n",
    "<ul>\n",
    "<li><b> Positron Emission Tomography (PET)</b> - measure blood flow and neurochemistry to look at tracers like opioids and dopamine\n",
    "<li><b> Functional Magnetic Resonance Imaging (fMRI)</b> - measure brain structure and dynamics, looking at an entire brain (about 1 slice per second), which is about 100,000 pieces of information per slice. fMRI allows us to look at what's happening across networks in the brain\n",
    "\n",
    "Now thousands of publications are coming out each year using these methods of imaging. And the trend in this research is toward a multidisciplinary science:<br>\n",
    "<img src='multi.png'>"
   ]
  },
  {
   "cell_type": "markdown",
   "metadata": {},
   "source": [
    "Imaging of this kind, starting with MRI, have been very popular in Cognitive Science.<br>\n",
    "\n",
    "<b>Definition: Cognitive Science</b> is the interdisciplinary scientific study of the human mind.\n",
    "\n",
    "But when we include the brain in the field of cognitive science, we get cognitive neuroscience, affective neuroscience, decision neuroscience, social neuroscience, and others.\n",
    "\n",
    "What is common between these sciences is that they are trying to create a <i>brain representation</i>, which is a physical representation or information structure that underlies a mental experience.<br>\n",
    "\n",
    "<img src='health.png'>"
   ]
  },
  {
   "cell_type": "markdown",
   "metadata": {},
   "source": [
    "<b>Note</b> The use of fMRI helps us put all of these pieces together to help us get to our goal of understanding the person. And we can do this by looking at both the structural and functional relationships that are occuring in the brain.<br>\n",
    "\n",
    "<img src='sf.png'>"
   ]
  },
  {
   "cell_type": "markdown",
   "metadata": {},
   "source": [
    "To put all these pieces together we will need people from many different subdisciplines and experts who can bridge these subdisciplines.\n"
   ]
  },
  {
   "cell_type": "markdown",
   "metadata": {},
   "source": [
    "## Imaging Basics"
   ]
  },
  {
   "cell_type": "markdown",
   "metadata": {},
   "source": [
    "<b>Structural Imaging</b> deals with the study of brain structure and the diagnosis of disease and injury\n",
    "<b>Modalities</b>:\n",
    "<ul>\n",
    "<li> Computed Axial Tomography (CAT)\n",
    "<li> Magnetic Resonance Imaging (MRI)\n",
    "<li> Positron Emission Tomography (PET)\n",
    "</ul>\n",
    "And within these modalities we can look at more than one type of brain structure\n",
    "\n",
    "<b>Functional Imaging</b> deals with cognitive and affective processes\n",
    "<b>Modalities</b>:\n",
    "<ul>\n",
    "<li> Positron Emission Tomography (PET)\n",
    "<li> Functional Magnetic Resonance Imaging (fMRI)\n",
    "<li> Electroencephalography (EEG)\n",
    "<li> Magnetoencephalography (MEG)\n",
    "</ul>\n",
    "\n",
    "The difference between MRI and fMRI is that in fMRI we take a series of images that are close together in time and look at how they change with some task.\n",
    "\n",
    "<b> Note</b>: Each type of functional imaging modality has its own pros and cons when dealing with spatial resolution, temporal resolution, and invasiveness. fMRI has a good balance of these properties:<br>\n",
    "\n",
    "<img src='fmri.png'>\n"
   ]
  },
  {
   "cell_type": "code",
   "execution_count": null,
   "metadata": {
    "collapsed": true
   },
   "outputs": [],
   "source": []
  }
 ],
 "metadata": {
  "kernelspec": {
   "display_name": "Python 3",
   "language": "python",
   "name": "python3"
  },
  "language_info": {
   "codemirror_mode": {
    "name": "ipython",
    "version": 3
   },
   "file_extension": ".py",
   "mimetype": "text/x-python",
   "name": "python",
   "nbconvert_exporter": "python",
   "pygments_lexer": "ipython3",
   "version": "3.6.1"
  }
 },
 "nbformat": 4,
 "nbformat_minor": 2
}
