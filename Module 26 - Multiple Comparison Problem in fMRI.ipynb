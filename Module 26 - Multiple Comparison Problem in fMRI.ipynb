{
 "cells": [
  {
   "cell_type": "markdown",
   "metadata": {},
   "source": [
    "# Module 26: Multiple Comparison Problem in fMRI"
   ]
  },
  {
   "cell_type": "markdown",
   "metadata": {},
   "source": [
    "### Localizing Activation"
   ]
  },
  {
   "cell_type": "markdown",
   "metadata": {},
   "source": [
    "First we construct a model for each voxel of the brain. This is the massive univariate approach using GLM."
   ]
  },
  {
   "cell_type": "markdown",
   "metadata": {},
   "source": [
    "Second we can perform a statistical test with the null hypothesis that there is no activation in the voxel, to determine whether task related activation is present in the voxel. We test: $$H_0:c^T\\beta =0$$"
   ]
  },
  {
   "cell_type": "markdown",
   "metadata": {},
   "source": [
    "(for example we might test if condition A - condition B is equal to 0. Recall that c is he contrast matrix that determines the hypothesis test. We can do this for every voxel in the brain to produce a t-map image like this: \n",
    "<img src='tmap.png'>"
   ]
  },
  {
   "cell_type": "markdown",
   "metadata": {},
   "source": [
    "Third we then must choose an appropriate threshold for determining statistical significance. We basically ask what the cutoff in the t-map (small enough p-value) is for significant activation, and anything meeting or exceeding that threshold is kept:\n",
    "<img src='sigtmap.png'>"
   ]
  },
  {
   "cell_type": "markdown",
   "metadata": {},
   "source": [
    "But how do we determine this level?"
   ]
  },
  {
   "cell_type": "markdown",
   "metadata": {},
   "source": [
    "### Hypothesis Testing"
   ]
  },
  {
   "cell_type": "markdown",
   "metadata": {},
   "source": [
    "#### Basic nomenclature"
   ]
  },
  {
   "cell_type": "markdown",
   "metadata": {},
   "source": [
    "<ul>\n",
    "<li>Null Hypothesis: $H_0$ is a statement of no effect (e.g. $\\beta_1-\\beta_2 = 0$)\n",
    "<li>Test Statistic; $T$ measures compatibility between the null hypothesis and the data. \n",
    "<li>P-value: is the probability that the test statistic would take a value as or more extreme than that actually observed if $H_0$ is true. In other words $P(T>t|H_0)$ The smaller the value, the less likely it is that the null value holds.\n",
    "<li>Significance Level: threshold $u_\\alpha$ controls the false positive rate at level $\\alpha=P(T>u_\\alpha |H_0)$ Note that here 0.05 is often chosen, meaning we expect a false positive about 5% of the time.\n",
    "</ul>\n"
   ]
  },
  {
   "cell_type": "markdown",
   "metadata": {},
   "source": [
    "#### Errors"
   ]
  },
  {
   "cell_type": "markdown",
   "metadata": {},
   "source": [
    "<ul>\n",
    "<li>Type I error: occurs when $H_0$ is true, but we mistakenly reject it (False Positive). By increasing our significance threshold, $\\alpha$, we can require stronger and stronger evidence, which helps guard against a false positive.\n",
    "<li>Type II error: occurs when $H_0$ is false, but we mistakenly fail to reject it (False Negative). \n",
    "</ul>\n",
    "\n",
    "The probability that a hypothesis test will correctly reject a false null hypothesis is the <b>power</b> of the test. In other words this is the ability of the test to discern an effect if one truly exists."
   ]
  },
  {
   "cell_type": "markdown",
   "metadata": {},
   "source": [
    "#### Multiple Comparisons"
   ]
  },
  {
   "cell_type": "markdown",
   "metadata": {},
   "source": [
    "Becase we are dealing with a family of tests, choosing an appropriate threshold is complicated. Assume our $\\alpha$ level is set at 0.05. Then if we only did one hypothesis test, the risk of making a Type I error would be 5%. However, because many hypothesis tests are performed, and there is a 5% chance of a Type I error each time, the risk of making at least one Type I error is greater than 5%. The more tests performed, the greater the likelihood of getting at least one false positive."
   ]
  },
  {
   "cell_type": "markdown",
   "metadata": {},
   "source": [
    "If we have 100,000 voxels and $\\alpha =0.05$ then we can expect 5,000 false positives. Here we would deem these voxels to be active even though they were not."
   ]
  },
  {
   "cell_type": "markdown",
   "metadata": {},
   "source": [
    "Choosing a threshold is a balance between:\n",
    "<ul>\n",
    "<li><b>Sensitivity</b>: the true positive rate and\n",
    "<li><b>Specificity</b>: the true negative rate\n",
    "</ul>"
   ]
  },
  {
   "cell_type": "markdown",
   "metadata": {},
   "source": [
    "#### Quantifying False Positive Rate"
   ]
  },
  {
   "cell_type": "markdown",
   "metadata": {},
   "source": [
    "Family-Wise Error Rate (FWER): this is the probability of making <b>any</b> false positives.\n",
    "\n",
    "False Discovery Rate (FDR): this is the proportion of false positives among the rejected tests.\n",
    "\n",
    "More to come on these next."
   ]
  }
 ],
 "metadata": {
  "kernelspec": {
   "display_name": "Python 3",
   "language": "python",
   "name": "python3"
  },
  "language_info": {
   "codemirror_mode": {
    "name": "ipython",
    "version": 3
   },
   "file_extension": ".py",
   "mimetype": "text/x-python",
   "name": "python",
   "nbconvert_exporter": "python",
   "pygments_lexer": "ipython3",
   "version": "3.6.5"
  }
 },
 "nbformat": 4,
 "nbformat_minor": 2
}
