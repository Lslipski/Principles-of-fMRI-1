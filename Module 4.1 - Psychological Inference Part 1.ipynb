{
 "cells": [
  {
   "cell_type": "markdown",
   "metadata": {},
   "source": [
    "# Module 4.1: Psychological Inference Part 1"
   ]
  },
  {
   "cell_type": "markdown",
   "metadata": {},
   "source": [
    "There are many cases in which we can find that when a person is carrying out a specific task, part of their brain consistently shows activation. However, it is not statistically true that $P(Activation|Task)$ tells the whole story.\n",
    "\n",
    "Here we are trying to relate what we see a person's brain doing with what the person is experiencing psychologically. Relating these two things requires us to make a psychological inference."
   ]
  },
  {
   "cell_type": "markdown",
   "metadata": {},
   "source": [
    "### What <i>answers</i> can neuroimaging provide?"
   ]
  },
  {
   "cell_type": "markdown",
   "metadata": {},
   "source": [
    "Neuroimaging studies should be designed to test neuroscientific theories. We can answer questions like \"does this voxel respond to the task?\" or \"does this region respond to the task?\" And with the brain mapping approach we can test those hypotheses. The hypothesis tests determine whether there is a non-zero relationship between the task and the brain or the brain and the outcome.\n",
    "\n",
    "<b>Note</b> the answer is \"given the model assumptions, this brain area shows a non-zero effect.\" This does not tell us about the effect size. Finding a task-->brain activity effect exists, doesn't really tell us much."
   ]
  },
  {
   "cell_type": "markdown",
   "metadata": {},
   "source": [
    "### What <i>questions</i> are meaningful to ask of neuroimaging?"
   ]
  },
  {
   "cell_type": "markdown",
   "metadata": {},
   "source": [
    "<b>Key</b> The activation of a target brain region must constrain your theory or teach you something new. Otherwise, it does not add value.\n",
    "\n",
    "If we want to say something about the mind, or subjective experience of a subject, the brain region must be sufficiently characterized to infer something about the mind when we know its activation state.\n"
   ]
  },
  {
   "cell_type": "markdown",
   "metadata": {},
   "source": [
    "### Forward and reverse inference"
   ]
  },
  {
   "cell_type": "markdown",
   "metadata": {},
   "source": [
    "Brain mapping provides us with the forward inference, from psychological state to brain activity. Reverse inference provdies us what we're really after, which is understanding the psychological state from the current physical state of the brain.\n",
    "\n",
    "<img src='inference.png'>"
   ]
  },
  {
   "cell_type": "markdown",
   "metadata": {},
   "source": [
    "We can relate these two types of inference using Bayes' Rule:$$P(Psy|Brain) = \\frac{P(Psy)*P(Brain|Psy)}{P(Brain)}$$"
   ]
  },
  {
   "cell_type": "markdown",
   "metadata": {},
   "source": [
    "<b>Note</b> When studies conduct the forward inference study, but make the reverse inference conclusion from it, the study is using fallacious reverse inference: affirming the consequence. A canonical example is:\n",
    "\n",
    "Dogs like ice cream. Mary likes ice cream. Therefore, Mary is a dog.\n",
    "$$If\\ P\\ --> \\ Q$$\n",
    "$$Q$$\n",
    "$$Therefore\\ P$$"
   ]
  },
  {
   "cell_type": "markdown",
   "metadata": {},
   "source": [
    "<b>Example</b> \"Punishing wrongdoers feels good because it activates pleasure centers in the brain...\"\n",
    "\n",
    "The study gave people the opportunity to punish people for wrongdoing, and found that during such a task there was activation of the caudate nucleaus. \n",
    "\n",
    "<i>Forward inference</i>: When we punish wrongdoers, we activate the caudate.\n",
    "<i>Reverse inference</i>: When our caudate is activated we are enjoying.\n",
    "\n",
    "<b>Logical Premise</b>:\n",
    "\n",
    "1.) (P) If i'm enjoying something, then my caudate is activated (<b>sensitivity</b>)$$P(caudate|enjoyment)$$\n",
    "\n",
    "2.) (Q) My caudate is activated \n",
    "\n",
    "3.) Q therefore P\n",
    "\n",
    "<b>Note</b> this is true if and only if enjoyment is the only thing that activates the caudate. This is quantified as the <b>Specificity</b> or: $$P(caudate|NOT enjoyment)$$\n",
    "\n",
    "This is to say, how likely is it that the caudate activates for <i>anything else</i>?"
   ]
  },
  {
   "cell_type": "markdown",
   "metadata": {},
   "source": [
    "### Applying Bayes Rule"
   ]
  },
  {
   "cell_type": "markdown",
   "metadata": {},
   "source": [
    "To show reverse inference, we want to calculate the <b>positive predictive value</b> of caudate activation on enjoyment:$$P(enjoyment|caudate)$$"
   ]
  },
  {
   "cell_type": "markdown",
   "metadata": {},
   "source": [
    "To calculate this we need 3 things:<br>\n",
    "1.) <i>Sensitivity</i> (Forward inference): $P(Brain|enjoyment)$<br>\n",
    "2.) <i>Specificity</i>: $P(Brain|NOT enjoyment)$<br>\n",
    "3.) <i>Caudate Prior</i>: $P(caudate)$\n",
    "\n",
    "Bayes rule gives us: $$\\frac{P(enjoyment)\\ *\\ P(Brain|enjoyment)}{P(Brain|No\\ enjoyment)}$$<br>\n",
    "$$=\\frac{ (0.1)\\ *\\ (0.9)}{(0.4)}\\ =\\ 0.2$$\n"
   ]
  },
  {
   "cell_type": "markdown",
   "metadata": {},
   "source": [
    "This shows that you can have very high sensitivity and very low predictive value (especially if the base rate is low)."
   ]
  },
  {
   "cell_type": "markdown",
   "metadata": {},
   "source": [
    "<b>Take Away</b>:\n",
    "1.) Reverse inference means treating the brain as a marker for some state of mind.\n",
    "\n",
    "2.) To get reverse inference we must have high positive predictive value\n",
    "\n",
    "3.) PPV can be calculated, but this requires the measurement of multiple, potentially confusable (highly collinear) tasks/states\n",
    "\n",
    "4.) For regional brain activation to have high PPV:<br>\n",
    "-It must respond <i>consistently</i> to the task/state (high sensitivity)\n",
    "-It must respond <i>only</i> to the task/state (high specificity)\n",
    "\n",
    "This however is rarely the case."
   ]
  }
 ],
 "metadata": {
  "kernelspec": {
   "display_name": "Python 3",
   "language": "python",
   "name": "python3"
  },
  "language_info": {
   "codemirror_mode": {
    "name": "ipython",
    "version": 3
   },
   "file_extension": ".py",
   "mimetype": "text/x-python",
   "name": "python",
   "nbconvert_exporter": "python",
   "pygments_lexer": "ipython3",
   "version": "3.6.1"
  }
 },
 "nbformat": 4,
 "nbformat_minor": 2
}
