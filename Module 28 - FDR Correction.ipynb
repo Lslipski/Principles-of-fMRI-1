{
 "cells": [
  {
   "cell_type": "markdown",
   "metadata": {},
   "source": [
    "# Module 28: FDR Correction"
   ]
  },
  {
   "cell_type": "markdown",
   "metadata": {},
   "source": [
    "Recall that methods for controlling FWER provide a strong control over the number of false positives, these also lead to tests that suffer from low power. This is important because the most interesting effects in fMRI applications are usually at the edge of detection."
   ]
  },
  {
   "cell_type": "markdown",
   "metadata": {},
   "source": [
    "### False Discovery Rate (FDR)"
   ]
  },
  {
   "cell_type": "markdown",
   "metadata": {},
   "source": [
    "While FWER controls the probability of any false positives, the FDR controls the proportion of false positives among all rejected tests. Note that when we say \"rejected tests\" we mean \"rejected null hypotheses that stated no difference or no activation.\" \n",
    "\n",
    "There will be some number of m voxels that we declare to be active, denoted by R below:\n",
    "<img src='fdrtable.png'>"
   ]
  },
  {
   "cell_type": "markdown",
   "metadata": {},
   "source": [
    "Using this notation we have:$$FWER=P(V\\geq 1)$$"
   ]
  },
  {
   "cell_type": "markdown",
   "metadata": {},
   "source": [
    "and the False Discovery Rate:$$FDR=E(\\frac{V}{R})$$"
   ]
  },
  {
   "cell_type": "markdown",
   "metadata": {},
   "source": [
    "with the FDR defined to be 0 if R=0 because if we don't declare any active voxels there can't be any false positives.\n",
    "\n",
    "This makes the FDR to be the number of inactive-declared-active voxels out of all of the declared active voxels. "
   ]
  },
  {
   "cell_type": "markdown",
   "metadata": {},
   "source": [
    "#### Properties"
   ]
  },
  {
   "cell_type": "markdown",
   "metadata": {},
   "source": [
    "A procedure controlling the FDR ensures that on average the FDR is no bigger than a pre-specified rate q which lies between 0 and 1. But for any given data set the FDR could be below this bound. A technique of this kind will guarantee that $$FDR\\leq q$$"
   ]
  },
  {
   "cell_type": "markdown",
   "metadata": {},
   "source": [
    "#### Benjamini-Hochberg (BH) Procedure"
   ]
  },
  {
   "cell_type": "markdown",
   "metadata": {},
   "source": [
    "<ol>\n",
    "<li>Select desired limit q on FDR (e.g. 0.05)\n",
    "<li>Rank p-values, $p_{(1)}\\leq p_{(2)}\\leq ...\\leq p_{(m)}$, from smallest to largest\n",
    "<li>Let $r$ be the largest $i$ such that $$p_{(i)}\\leq i/m \\times q$$ where $i/m\\times q$ is a straight line from 0 to q<br>\n",
    "<li>Reject all hypotheses corresponding to $p_{(1)},...,p_{(r)}$\n",
    "</ol>\n",
    "<img src='bhp.png'>"
   ]
  },
  {
   "cell_type": "markdown",
   "metadata": {},
   "source": [
    "because we reject (the null) hypotheses below the black line above, those are the voxels that we deem to be active.\n",
    "\n",
    "<b>Note</b>: If all the null hypotheses are true then the FDR is equivalent to the FWER. Therefore any procedure that controls the FWER also controls the FDR. And any procedure that controls the FDR can only be <b>less</b> stringent and lead to a gain in power. \n",
    "\n",
    "Also, because the FDR controlling procedures work only on the p-values and not on the actual test statistics, it can be applied to any valid statistical test."
   ]
  }
 ],
 "metadata": {
  "kernelspec": {
   "display_name": "Python 3",
   "language": "python",
   "name": "python3"
  },
  "language_info": {
   "codemirror_mode": {
    "name": "ipython",
    "version": 3
   },
   "file_extension": ".py",
   "mimetype": "text/x-python",
   "name": "python",
   "nbconvert_exporter": "python",
   "pygments_lexer": "ipython3",
   "version": "3.6.5"
  }
 },
 "nbformat": 4,
 "nbformat_minor": 2
}
