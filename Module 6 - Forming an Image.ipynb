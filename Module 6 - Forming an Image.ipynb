{
 "cells": [
  {
   "cell_type": "markdown",
   "metadata": {},
   "source": [
    "# Module 6: Forming an Image"
   ]
  },
  {
   "cell_type": "markdown",
   "metadata": {},
   "source": [
    "## How can we use the signal captured in the last lecture to produce an image?"
   ]
  },
  {
   "cell_type": "markdown",
   "metadata": {},
   "source": [
    "Most MRI scans involve the construction of a 3D image from a series of 2D images:<img src='2d3d.png'>\n",
    "\n",
    "So how do we get one of these 2D slices?"
   ]
  },
  {
   "cell_type": "markdown",
   "metadata": {},
   "source": [
    "Imagine a slice consisting of 16 voxels (4x4). We want to know the proton density (for example) of each voxel, described by $\\rho (x,y)$. Here's an example of very low resolution:<img src='lowres.png'>"
   ]
  },
  {
   "cell_type": "markdown",
   "metadata": {},
   "source": [
    "The signal we're measuring is the combination of the signal of all the hydrogen atoms over the whole slice:$$S(t)=\\iint \\rho (x,y)dxdy$$"
   ]
  },
  {
   "cell_type": "markdown",
   "metadata": {},
   "source": [
    "Because this only gives us the signal from the entire slice, we need to make more measurements to determine the spatial distribution (signal for each voxel) of the protons. To do this, we use a <b>magnetic field gradient</b> to sequentially control the spatial inhomogeneity of the magnetic field. So each voxel-wise measurement can be expressed:$$S(k_x,k_y)=\\iint \\rho (x,y)e^{-i2\\pi (k_xx+k_yy)}dxdy$$"
   ]
  },
  {
   "cell_type": "markdown",
   "metadata": {},
   "source": [
    "Now for 2 constants $k_x$ and $k_y$ we can measure $S(k_x,k_y)$, which is $\\rho (x,y)$ weighted by this exponential term which depends on $x,\\ y,\\ k_x, \\ and\\ k_y$ where $k_x$ and $k_y$ are controlled by us.\n",
    "\n",
    "So we can alter $k_x$ and $k_y$ until we have enough images that we can solve the inverse problem and get the individual $\\rho (x,y)$ back.\n",
    "\n",
    "<b>Note</b> The measurements of $S(k_x,k_y)$ are actually a fourier transform of the images that we want to construct. This is the link between the measurements made by the scanner and the images that we actually want to see and work with."
   ]
  },
  {
   "cell_type": "markdown",
   "metadata": {},
   "source": [
    "### K-Space"
   ]
  },
  {
   "cell_type": "markdown",
   "metadata": {},
   "source": [
    "The measurements of the MRI are captured in the frequency domain, which is referred to as K-Space. By using the inverse Fourier transform (IFT), we can get from K-space back to $\\rho (x,y)$, which is the image we were after.$$\\rho (x,y)=\\iint S(k_x,k_y)e^{-i2\\pi (k_xx+k_yy)}dxdy$$"
   ]
  },
  {
   "cell_type": "markdown",
   "metadata": {},
   "source": [
    "<b>Note</b> - While represented as integrals, in practice data is taken in discrete measurements over a finite region, so we will use discrete Fourier transforms, and the number of k-space measurements will influence the spatial resolution of the image. More measurements will yield higher resolution (but will take longer to record)."
   ]
  },
  {
   "cell_type": "markdown",
   "metadata": {},
   "source": [
    "K-space can be sampled a number of ways. Two popular methods are EquiPlanar Imaging (EPI) and the other is a spiral. <img src='sample.png'>"
   ]
  },
  {
   "cell_type": "markdown",
   "metadata": {},
   "source": [
    "#### Image Magnitude"
   ]
  },
  {
   "cell_type": "markdown",
   "metadata": {},
   "source": [
    "K-space is measured using complex values (at each voxel). Instead of working with the complex values, we can take the magnitude images:$$|{\\rho (x,y)}| = \\sqrt{\\rho _R(x,y)^2 + \\rho _I(x,y)^2}$$"
   ]
  },
  {
   "cell_type": "markdown",
   "metadata": {},
   "source": [
    "where $\\rho _R$ and $\\rho _I$ are the real and imaginary parts of the k-space measurement."
   ]
  },
  {
   "cell_type": "markdown",
   "metadata": {},
   "source": [
    "When we take all of these k-space images and perform an IFT on them, we produce the image we are after: <img src='ift.png'>"
   ]
  }
 ],
 "metadata": {
  "kernelspec": {
   "display_name": "Python 3",
   "language": "python",
   "name": "python3"
  },
  "language_info": {
   "codemirror_mode": {
    "name": "ipython",
    "version": 3
   },
   "file_extension": ".py",
   "mimetype": "text/x-python",
   "name": "python",
   "nbconvert_exporter": "python",
   "pygments_lexer": "ipython3",
   "version": "3.6.1"
  }
 },
 "nbformat": 4,
 "nbformat_minor": 2
}
