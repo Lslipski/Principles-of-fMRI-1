{
 "cells": [
  {
   "cell_type": "markdown",
   "metadata": {},
   "source": [
    "# Module 27: FWER Correction"
   ]
  },
  {
   "cell_type": "markdown",
   "metadata": {},
   "source": [
    "## This module gives more detail on how to correct for the family-wise error rate (FWER)"
   ]
  },
  {
   "cell_type": "markdown",
   "metadata": {},
   "source": [
    "The FWER is the probability of making one or more Type I errors in a family of tests under the null hypothesis.Again, a Type I error is rejecting the null hypothesis when we shouldn't have. Popular methods for controlling the FWER are:\n",
    "<ul>\n",
    "<li>Bonferroni correction\n",
    "<li>Random Field Theory\n",
    "<li>Permutation Tests\n",
    "</ul>"
   ]
  },
  {
   "cell_type": "markdown",
   "metadata": {},
   "source": [
    "### Bonferroni Correction"
   ]
  },
  {
   "cell_type": "markdown",
   "metadata": {},
   "source": [
    "Let $H_{0i}$ be the hypothesis that there is no activation in voxel $i$, where $i\\in V=\\{1,...m\\}$ and $m$ is the total number of voxels in the image."
   ]
  },
  {
   "cell_type": "markdown",
   "metadata": {},
   "source": [
    "Let $T_i$ be the value of the test statistic at voxel $i$"
   ]
  },
  {
   "cell_type": "markdown",
   "metadata": {},
   "source": [
    "The family-wise null hypothesis, $H_0$, states that there is no activation in any of the $m$ voxels across the brain:\n",
    "$$H_0 = \\underset{i\\in V}{\\cap}H_{0i}$$"
   ]
  },
  {
   "cell_type": "markdown",
   "metadata": {},
   "source": [
    "which basically states that the $H_0$ has to be true at each voxel $i$. If we reject a single voxel null hypothesis $H_0i$, then we will reject the family-wise null hypothesis. Therefore a false positive at any voxel gives a Family-Wise Error (FWE)."
   ]
  },
  {
   "cell_type": "markdown",
   "metadata": {},
   "source": [
    "If we want to minimize the probability of falsely rejecting the null hypothesis, we can control it with $\\alpha$ where\n",
    "$$P(\\underset{i\\in V}{\\cup}\\{T_i\\geq u\\}|H_0)\\leq \\alpha$$"
   ]
  },
  {
   "cell_type": "markdown",
   "metadata": {},
   "source": [
    "here we're saying that the probability of the test statistic T that we calculate for any voxel is greater than some threshold $u$, GIVEN that the null hypothesis is true, is controlled by the value $\\alpha$ which we can set! If $T_i$ is above $u$ at some voxel, we're going to reject the null hypothesis, and we don't want to do that here because $H_0$ is true."
   ]
  },
  {
   "cell_type": "markdown",
   "metadata": {},
   "source": [
    "To do this we choose the threshold so that\n",
    "$$P(T_i\\geq u|H_0)\\leq\\frac{\\alpha}{m}$$"
   ]
  },
  {
   "cell_type": "markdown",
   "metadata": {},
   "source": [
    "where $m$ is the total number of voxels."
   ]
  },
  {
   "cell_type": "markdown",
   "metadata": {},
   "source": [
    "Therefore,\n",
    "$$FWER = P(\\underset{i\\in V}{\\cup}\\{T_i\\geq u\\}|H_0)$$\n",
    "and by Boole's inequality,\n",
    "$$\\leq \\sum_iP(T_i\\geq U|H_0)$$\n",
    "and finally,\n",
    "$$\\leq \\sum_i\\frac{\\alpha}{m}=\\alpha$$"
   ]
  },
  {
   "cell_type": "markdown",
   "metadata": {},
   "source": [
    "<img src='uexample.png'>"
   ]
  },
  {
   "cell_type": "markdown",
   "metadata": {},
   "source": [
    "In the example above we generate each pixel from a normal distribution, and we set $u$ to be 1.645 which would be the 95th percentile of values in this case. So if $T_i$ is above 1.645 the pixel is white, otherwise it is black. We see that even with this high value we get many false positives."
   ]
  },
  {
   "cell_type": "markdown",
   "metadata": {},
   "source": [
    "To control for the FWER of 0.05, the Bonferroni correction is 0.05/10,000 = 0.000005. This corresponds to $u$=4.42. And when we set $u$ to this higher value, we get no false positives."
   ]
  },
  {
   "cell_type": "markdown",
   "metadata": {},
   "source": [
    "<b>Note</b>:This means that on average only 5 out of every 100 datasets generated in this fashion will have one or more values above $u$. This is a very stringent way to control for false positives, and if you do have actual activation in this group, it's going to become very hard to detect it. "
   ]
  },
  {
   "cell_type": "markdown",
   "metadata": {},
   "source": [
    "#### Summary"
   ]
  },
  {
   "cell_type": "markdown",
   "metadata": {},
   "source": [
    "The Bonferroni Correction is very conservative and results in very strict significance levels. It <i>decreases</i> the power of the test (detecting a true activation if one exists) and greatly increases the chance of false negatives.\n",
    "\n",
    "Lastly, it does not account for correlated data, and most fMRI data has significant spatial correlation, meaning the number of independent tests in fewer than the number of voxels."
   ]
  },
  {
   "cell_type": "markdown",
   "metadata": {},
   "source": [
    "### Random Field Theory"
   ]
  },
  {
   "cell_type": "markdown",
   "metadata": {},
   "source": [
    "Random Field Theory allows us to incorporate the spatial correlation of our data in the the calculation of the appropriate threshold. This is based on approximating the <b>maximum statistic</b> over the whole image. "
   ]
  },
  {
   "cell_type": "markdown",
   "metadata": {},
   "source": [
    "#### Maximum Statistic"
   ]
  },
  {
   "cell_type": "markdown",
   "metadata": {},
   "source": [
    "The link between the FWER and the maximum statistic is:\n",
    "$$FWER = P(FWE)$$"
   ]
  },
  {
   "cell_type": "markdown",
   "metadata": {},
   "source": [
    "$$=P(\\underset{i\\in V}{\\cup}\\{T_i\\geq u\\}|H_0)$$which is the probability that any t-value exceeds $u$ given $H_0$\n",
    "$$=P(max_iT_i\\geq u|H_0)$$ which is the probability that the MAX t-value exceeds $u$ given $H_0$"
   ]
  },
  {
   "cell_type": "markdown",
   "metadata": {},
   "source": [
    "so we could choose the threshold $u$ such that the max only exceeds it $\\alpha$% of the time."
   ]
  },
  {
   "cell_type": "markdown",
   "metadata": {},
   "source": [
    "#### Random Fields"
   ]
  },
  {
   "cell_type": "markdown",
   "metadata": {},
   "source": [
    "A random field is a set of random variables defined at every point in D-dimensional space."
   ]
  },
  {
   "cell_type": "markdown",
   "metadata": {},
   "source": [
    "A Gaussian random field has a Gaussian distribution at every point and every <i>collection</i> of points. A Gaussian random field is defined by its mean and covariance functions."
   ]
  },
  {
   "cell_type": "markdown",
   "metadata": {},
   "source": [
    "Using random field methods we are able to:\n",
    "<ol>\n",
    "<li>approximate the upper tail of the maximum distribution, which is the part needed to find the appropriate thresholds and simultaneously\n",
    "<li>account for the spatial dependence in the data\n",
    "</ol>"
   ]
  },
  {
   "cell_type": "markdown",
   "metadata": {},
   "source": [
    "#### Euler Characteristic"
   ]
  },
  {
   "cell_type": "markdown",
   "metadata": {},
   "source": [
    "The Euler Characteristic $\\chi_u$\n",
    "<ul>\n",
    "<li>A property of an image <b>after</b> it has been thresholded\n",
    "<li>Counts #blobs - #holes\n",
    "<li>At high thresholds, just counts #blobs\n",
    "</ul>\n",
    "In the images below, the white blobs can be thought of as the peaks in the colorful random field image.<img src='randomfield.png'>"
   ]
  },
  {
   "cell_type": "markdown",
   "metadata": {},
   "source": [
    "<img src='euler.png'>"
   ]
  },
  {
   "cell_type": "markdown",
   "metadata": {},
   "source": [
    "when $u = 0.5$ we get 28 - 1 = 27 blobs. When $u=2.75$ we get 2 blobs, and one blob below that."
   ]
  },
  {
   "cell_type": "markdown",
   "metadata": {},
   "source": [
    "The link between the FWER and the Euler Characteristic is that:\n",
    "$$FWER = P(max_iT_i\\geq u|H_0)$$\n",
    "$$=P(One\\ or\\ more\\ blobs\\ |H_0)$$ assuming no holes exist\n",
    "$$\\approx P(\\chi_u\\geq 1|H_0$$ never more than one blob\n",
    "$$\\approx E(\\chi_u|H_0)$$\n",
    "which is the <b>expected</b> Euler Characteristic"
   ]
  },
  {
   "cell_type": "markdown",
   "metadata": {},
   "source": [
    "So the FWER is just the expected characteristic, and there are closed form results for $E(\\chi_u)$ for Z, t, F, and $\\chi^2$ continuous random fields."
   ]
  },
  {
   "cell_type": "markdown",
   "metadata": {},
   "source": [
    "#### 3D Gaussian Random Fields"
   ]
  },
  {
   "cell_type": "markdown",
   "metadata": {},
   "source": [
    "<img src='3gdrf.png'>"
   ]
  },
  {
   "cell_type": "markdown",
   "metadata": {},
   "source": [
    "Using this result we can see that the FWER is approximately $E(\\chi_u)$ above. And we can use this to choose $u$ and control the Family-Wise Error Rate."
   ]
  },
  {
   "cell_type": "markdown",
   "metadata": {},
   "source": [
    "<b>Properties</b>\n",
    "<ul>\n",
    "<li>As $u$ increases, FWER decreases (for large $u$)\n",
    "<li>As V increases, FWER increases\n",
    "<li>As smoothness increases (denominator), FWER decreases\n",
    "</ul>\n",
    "<b>Note</b>: this last item means that if we have an image that is very smooth and adjacent voxels behave similarly, we'll have fewer independent tests."
   ]
  },
  {
   "cell_type": "markdown",
   "metadata": {},
   "source": [
    "#### RFT Assumptions"
   ]
  },
  {
   "cell_type": "markdown",
   "metadata": {},
   "source": [
    "1.) The entire image is either multivariate Gaussian or derived from multivariate Gaussian images (including Chi-squared, T, and F distributions)"
   ]
  },
  {
   "cell_type": "markdown",
   "metadata": {},
   "source": [
    "2.) The statistical image must be sufficiently smooth to approximate a continuous random field. This requires the FWHM to be at least twice the voxel size and a FWHM smoothness of 3-4 times the voxel size is preferrable. "
   ]
  },
  {
   "cell_type": "markdown",
   "metadata": {},
   "source": [
    "3.) The amount of smoothness is assumed to be known because the estimate is biased when images are not sufficiently smooth."
   ]
  },
  {
   "cell_type": "markdown",
   "metadata": {},
   "source": [
    "4.) Several layers of approximations must be made."
   ]
  }
 ],
 "metadata": {
  "kernelspec": {
   "display_name": "Python 3",
   "language": "python",
   "name": "python3"
  },
  "language_info": {
   "codemirror_mode": {
    "name": "ipython",
    "version": 3
   },
   "file_extension": ".py",
   "mimetype": "text/x-python",
   "name": "python",
   "nbconvert_exporter": "python",
   "pygments_lexer": "ipython3",
   "version": "3.6.5"
  }
 },
 "nbformat": 4,
 "nbformat_minor": 2
}
