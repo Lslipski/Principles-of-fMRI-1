{
 "cells": [
  {
   "cell_type": "markdown",
   "metadata": {},
   "source": [
    "# Module 17: Details of Building GLM Models"
   ]
  },
  {
   "cell_type": "markdown",
   "metadata": {},
   "source": [
    "Last time we saw how we would build a model for one voxel in a famous vs. non-famous face study using both block design and event-related designs. \n",
    "\n",
    "Recall that in the block design we can use a single regressor $\\beta_1$ to capture the <b>contrast</b> between famous and non famous stimuli. In the event-related design, we had to use $\\beta_1$ and $\\beta_2$ to describe each type of event separately. This gives us more flexibility in what we want to study because we can assess multiple contrasts. This means we can look a the difference between famous and non-famous, each one separately, or their averages. \n",
    "\n",
    "We do this using a <b>contrast</b>, which is a linear combination of GLM parameters. A <b>T-contrast</b> is a single, planned contrast which we can then use a t-test to asses the significance of differences. The T-contrast is specified by a vector of weights $c$ such that $c^T \\hat{\\beta}$ is a scalar value. Thie value can be positive or negative.\n",
    "\n",
    "C vectors have a value for the intercept and each beta value. The c vectors for our possible tests of interest are [0, 1, -1] for a difference between the two stimuli, [0, 1, 1] for an average difference between seeing a face or not, and [0, 1, 0] to test a single event (famous faces only)."
   ]
  },
  {
   "cell_type": "markdown",
   "metadata": {},
   "source": [
    "### Model Building and Contrasts: Multiple Predictors"
   ]
  },
  {
   "cell_type": "markdown",
   "metadata": {},
   "source": [
    "Here is an example that makes use of a factorial repeated-measures ANOVA design.\n",
    "\n",
    "<img src='modelmult.png'>"
   ]
  },
  {
   "cell_type": "markdown",
   "metadata": {},
   "source": [
    "In this case we'll have four indicator functions (A,B,C,D) to specify the onsets, we'll convolve this with the basis function (HRF) to produce our design matrix. We can then convolve this with our contrast weights, which we change depending on what we want to measure. In the below example, we consider the main effect of Factor 1, which means looking at the difference between visual and auditory presentation. <img src='factor1.png'>"
   ]
  },
  {
   "cell_type": "markdown",
   "metadata": {},
   "source": [
    "### Rules for T-contrasts"
   ]
  },
  {
   "cell_type": "markdown",
   "metadata": {},
   "source": [
    "C can be a matrix. Each column is a separate test and do not effect one another. The weighting can produce outputs that correspond to each of the main effects and the interaction between these effects. <img src='ctb.png'>"
   ]
  },
  {
   "cell_type": "markdown",
   "metadata": {},
   "source": [
    "Keep in mind that T-contrasts are not limited to ANOVA tests and can specify planned tests that make sense given a hypothesis. <img src='cs.png'>"
   ]
  },
  {
   "cell_type": "markdown",
   "metadata": {},
   "source": [
    "Also note that the scaling of the weights will affect the magnitude of $c^T\\hat{\\beta}$ but it won't affect the statistical inferences that we make. So [1, -1] will give the same statistical result as [.5, -.5].\n",
    "\n",
    "Further, contrast weights must be the same for all participants. Beware of missing sessions or runs!\n",
    "\n",
    "Contrast weights typically sum to zero. This is so we can easily run a t-test where the null hypothesis $H_0$ is that $c^T\\beta = 0$ and the alternative hypothesis, $H_A\\neq0$\n",
    "\n",
    "This is because if we consider an invalid contrast $c =$ [2, -1, 0, 0] even if the beta values are random, we'll still get non-zero results some of the time for the contrast estimate. This would result in a situation where we're not sure what the value should be for the null hypothesis. The is exception to this is:\n",
    "<img src='exception.png'>"
   ]
  },
  {
   "cell_type": "markdown",
   "metadata": {},
   "source": [
    "### Keep in mind: Assumptions!"
   ]
  },
  {
   "cell_type": "markdown",
   "metadata": {},
   "source": [
    "In constructing these models we have assumed a few things:\n",
    "<ol>\n",
    "<li>Neural Activity Funtion is correct (onsets)\n",
    "<li>HRF is correct (basis)\n",
    "<li>The system is linearly time invariant\n",
    "</ol>\n",
    "\n",
    "<b>Note</b>:All of these assumptions are wrong to some degree!"
   ]
  }
 ],
 "metadata": {
  "kernelspec": {
   "display_name": "Python 3",
   "language": "python",
   "name": "python3"
  },
  "language_info": {
   "codemirror_mode": {
    "name": "ipython",
    "version": 3
   },
   "file_extension": ".py",
   "mimetype": "text/x-python",
   "name": "python",
   "nbconvert_exporter": "python",
   "pygments_lexer": "ipython3",
   "version": "3.6.5"
  }
 },
 "nbformat": 4,
 "nbformat_minor": 2
}
