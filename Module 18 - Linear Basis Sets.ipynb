{
 "cells": [
  {
   "cell_type": "markdown",
   "metadata": {},
   "source": [
    "# Module 18: Linear Basis Sets"
   ]
  },
  {
   "cell_type": "markdown",
   "metadata": {},
   "source": [
    "In building a model for multiple predictors we had to assume that the neural activity function was correct, that the HRF was correct, and that the system was linearly time invariant. \n",
    "\n",
    "How can we relax these assumptions?"
   ]
  },
  {
   "cell_type": "markdown",
   "metadata": {},
   "source": [
    "### Assuming a non-fixed HRF"
   ]
  },
  {
   "cell_type": "markdown",
   "metadata": {},
   "source": [
    "We know that in some cases, our fixed-HRF is not correct. Recall that HRF depends on vasculature and the time course of neural activity:\n",
    "<img src='hrf1.png'>"
   ]
  },
  {
   "cell_type": "markdown",
   "metadata": {},
   "source": [
    "We also know that the HRF may vary between different brain regions because different regions are doing different things and are activated for different periods of time by a task. <img src='time.png'>"
   ]
  },
  {
   "cell_type": "markdown",
   "metadata": {},
   "source": [
    "To account for these issues we can use a <b>Temporal Basis Function</b> which models the HRF as a linear combination of temporal basis functions, $f_i(t)$ such that $$h(t)=\\sum{\\beta_if_i(t)}$$"
   ]
  },
  {
   "cell_type": "markdown",
   "metadata": {},
   "source": [
    "$h(t)$ is the overall estimated HRF and it is a linear combination of 3 basis functions * 3 beta values, all summed together.<img src='tbf.png'>"
   ]
  },
  {
   "cell_type": "markdown",
   "metadata": {},
   "source": [
    "Note that basis sets vary in the degree they make a prior assumptions about the shape of the response and the HRF shapes they can account for. <img src='bases.png'>"
   ]
  },
  {
   "cell_type": "markdown",
   "metadata": {
    "collapsed": true
   },
   "source": [
    "### Finite Impulse Response Model"
   ]
  },
  {
   "cell_type": "markdown",
   "metadata": {},
   "source": [
    "This model uses many predictors (one per time point) to give a flexible, arbitrary curve for fitting the data. Here we can see that for each onset we have four predictors in our design matrix. This yields a result very close to the idealized data. This is what it looks like for one event type. <img src='fir.png'>"
   ]
  },
  {
   "cell_type": "markdown",
   "metadata": {},
   "source": [
    "When we have multiple event types, a few things change. The design matrix will have one predictor per event type per basis function. This means each event type has its own basis function with some number of regressors. \n",
    "\n",
    "Below we see that in the case of 2 event types, the canonical HRF has one regressor for each type. \n",
    "\n",
    "The 3-parameter HRF has 6 regressors, each event type has 3 basis functions convolved with the event onsets to yield 3 predictors per event type. \n",
    "\n",
    "The FIR HRF has 6 basis functions convolved with the onsets for each event type, yielding 6 predictors for each event type. <img src='fir1.png'>"
   ]
  },
  {
   "cell_type": "markdown",
   "metadata": {},
   "source": [
    "### Choosing a Basis Set"
   ]
  },
  {
   "cell_type": "markdown",
   "metadata": {},
   "source": [
    "We have to consider both accuracy and precision:\n",
    "\n",
    "<b>Accuracy</b>: Can the model capture the true response (in this participant, voxel, and condition) without systematic bias?\n",
    "\n",
    "<b>Precision</b>: Are the model parameters (and thus the shape) estimated with little error variance? Imagine if sometimes the model is nearly perfect and sometimes it is off by 90%.\n",
    "\n",
    "Bias/Variance or Accuracy/Precision tradeoff is fundamental here. We can compare these models as below:\n",
    "<img src='accprec.png'>"
   ]
  },
  {
   "cell_type": "markdown",
   "metadata": {},
   "source": [
    "We would like a simple model that has the highest precision and accuracy. This means a few things:<br>\n",
    "<ol>\n",
    "<li>Few Parameters (high precision)\n",
    "<li>Parameters are interpretable measures of neuroscientific interest (e.g. response amplitude)\n",
    "<li>Accurate in the ways that count. It captures the true response amplitude in the physiological range, which depends on your task and brain region.\n",
    "</ol>\n",
    "Given our order here, the 3 parameter model is a pretty reasonable choice because it is simple, but accurate in the ways that count. It models the peak of the hemodynamic response quite well, kind of misses the the undershoot, but we don't really need to know about that for our experiment. \n",
    "\n",
    "For another task or model, the 3 parameter model might be less appropriate."
   ]
  },
  {
   "cell_type": "markdown",
   "metadata": {},
   "source": [
    "Models need to be chosen in a way that is adaptive to the task under scrutiny."
   ]
  }
 ],
 "metadata": {
  "kernelspec": {
   "display_name": "Python 3",
   "language": "python",
   "name": "python3"
  },
  "language_info": {
   "codemirror_mode": {
    "name": "ipython",
    "version": 3
   },
   "file_extension": ".py",
   "mimetype": "text/x-python",
   "name": "python",
   "nbconvert_exporter": "python",
   "pygments_lexer": "ipython3",
   "version": "3.6.5"
  }
 },
 "nbformat": 4,
 "nbformat_minor": 2
}
