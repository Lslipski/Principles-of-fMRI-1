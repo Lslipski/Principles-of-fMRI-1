{
 "cells": [
  {
   "cell_type": "markdown",
   "metadata": {},
   "source": [
    "# Module 11: Experimental Design"
   ]
  },
  {
   "cell_type": "markdown",
   "metadata": {},
   "source": [
    "### High Level View"
   ]
  },
  {
   "cell_type": "markdown",
   "metadata": {},
   "source": [
    "<b>Goals</b>:\n",
    "<ul>\n",
    "<li>Induce a psychological state in a human subject\n",
    "<li>Detect brain signals related to that psychological state\n",
    "</ul>\n",
    "\n",
    "<b>Considerations</b> - You control what to present and when\n",
    "<li>Psychological\n",
    "<li>Statistical"
   ]
  },
  {
   "cell_type": "markdown",
   "metadata": {},
   "source": [
    "### Types of Designs"
   ]
  },
  {
   "cell_type": "markdown",
   "metadata": {},
   "source": [
    "<b>Block Design</b>: Similar events are grouped. For example subjects see a series of famous faces then a series of non-famous faces alternating back and forth between the two.<img src='block.png'>\n",
    "\n",
    "<b>Event-Related Design</b>: Events are mixed across time. There is also spacing between the images called jitter. This could be a famous face followed by 2 non-famous faces, then 3 famous faces, etc. <img src='event.png'>\n",
    "\n",
    "<b>Note</b>: Two-condition block designs with 16-20 second blocks maximize statistical power."
   ]
  },
  {
   "cell_type": "markdown",
   "metadata": {},
   "source": [
    "### Psychological Considerations"
   ]
  },
  {
   "cell_type": "markdown",
   "metadata": {},
   "source": [
    "Does the task induce the subject to think the way you want?\n",
    "<ul>\n",
    "<li>Stimulus predictabilty\n",
    "<li>Time on task\n",
    "<li>Participant strategy\n",
    "<li>Temporal precision of psychological manipulations\n",
    "<li>Unintended psychological activity"
   ]
  },
  {
   "cell_type": "markdown",
   "metadata": {},
   "source": [
    "#### Predictability"
   ]
  },
  {
   "cell_type": "markdown",
   "metadata": {},
   "source": [
    "Predictability of the task will affect the subjects' psychological state. An example is a go/no-go task where you tap the table unless an X is displayed. In the sequences below, the predictability of the no-go stimulus (X) determines how hard it is not to respond.<img src='seq0.png'>\n",
    "\n",
    "As we can see, a block design allows the participant to prepare."
   ]
  },
  {
   "cell_type": "markdown",
   "metadata": {},
   "source": [
    "#### Time on Task"
   ]
  },
  {
   "cell_type": "markdown",
   "metadata": {},
   "source": [
    "You can only image what subjects are doing, so they should be doing what you want as much of the time as possible. An example here is famous face recognition which is a fast, automatic process."
   ]
  },
  {
   "cell_type": "markdown",
   "metadata": {},
   "source": [
    "We might show a sequence of famous/non-famous faces for 3 seconds each. It's been shown however that initial recognition can happen in 250ms, so the subject might recognize the face, then have some mind wandering, then come back to the task all within 3 seconds. This means most of that time period is spent NOT on task.<img src='seq1.png'>"
   ]
  },
  {
   "cell_type": "markdown",
   "metadata": {},
   "source": [
    "So a standard event related design will include many extraneous processes, all of which will produce activation."
   ]
  },
  {
   "cell_type": "markdown",
   "metadata": {},
   "source": [
    "One solution to this is rapid presentation with a control task following each face. This prevents subjects from engaging in spontaneous processes and maximizes time on the task of interest."
   ]
  },
  {
   "cell_type": "markdown",
   "metadata": {},
   "source": [
    "#### Participant Strategy"
   ]
  },
  {
   "cell_type": "markdown",
   "metadata": {},
   "source": [
    "Different stimulation configurations afford different strategies. An example is the Stroop task. <img src='stroop.png'>"
   ]
  },
  {
   "cell_type": "markdown",
   "metadata": {},
   "source": [
    "If the goal is to study cognitive control, we might want to compare, in a block design, these two configurations. But, if the stimuli are predictable, the the task is <i>reading</i>. If they are not predictable, then the task is <i>color naming</i>. These are not comparable tasks. So a block design here would confound the control with the task."
   ]
  },
  {
   "cell_type": "markdown",
   "metadata": {},
   "source": [
    "#### Temporal Precision of Psychological Manipulations"
   ]
  },
  {
   "cell_type": "markdown",
   "metadata": {},
   "source": [
    "What you expect from subjects should fit with what subjects can do. An example is recalling sad vs. happy memories. If you ask subjects to switch back and forth between sad and happy emotions, they can't do it very quickly. \n",
    "\n",
    "For this, a single epoch design is useful<img src='epoch.png'>"
   ]
  },
  {
   "cell_type": "markdown",
   "metadata": {},
   "source": [
    "This is also useful for stress designs and drug infusion designs. This is because if you do a stress task twice, it won't have the same effect the second time. This is statistically non-optimal, but viable for manipulating the psychological state."
   ]
  },
  {
   "cell_type": "markdown",
   "metadata": {},
   "source": [
    "#### Unintended Psychological Activity"
   ]
  },
  {
   "cell_type": "markdown",
   "metadata": {},
   "source": [
    "Imaging can capture all kinds of mental processes, including spontaneous activity between trials. An example is spatial attention shifting. Here we keep our eyes on a cross in the middle of the screen but covertly direct our attention to a blue dot as it moves on the screen. The dot might stay in the same location or move to a different one. However, subjects shift their attention to the fixations cross spontaneously.<img src='cross.png'>"
   ]
  },
  {
   "cell_type": "markdown",
   "metadata": {},
   "source": [
    "This means that there will be mis-modeling of the response in the exact brain areas that are of greatest interest."
   ]
  },
  {
   "cell_type": "markdown",
   "metadata": {},
   "source": [
    "<b>Takeaway</b>: Understand your task domain!"
   ]
  }
 ],
 "metadata": {
  "kernelspec": {
   "display_name": "Python 3",
   "language": "python",
   "name": "python3"
  },
  "language_info": {
   "codemirror_mode": {
    "name": "ipython",
    "version": 3
   },
   "file_extension": ".py",
   "mimetype": "text/x-python",
   "name": "python",
   "nbconvert_exporter": "python",
   "pygments_lexer": "ipython3",
   "version": "3.6.1"
  }
 },
 "nbformat": 4,
 "nbformat_minor": 2
}
