{
 "cells": [
  {
   "cell_type": "markdown",
   "metadata": {},
   "source": [
    "# Module 2 Goals of fMRI Analysis"
   ]
  },
  {
   "cell_type": "markdown",
   "metadata": {},
   "source": [
    "This notebook will describe some of the nomenclature and goals concerning analyzing fMRI data."
   ]
  },
  {
   "cell_type": "markdown",
   "metadata": {},
   "source": [
    "### Functional MRI"
   ]
  },
  {
   "cell_type": "markdown",
   "metadata": {},
   "source": [
    "<ul>\n",
    "<li> Non invasive (no known side effects)\n",
    "<li> A series of brain images are acquired while the subject performs tasks\n",
    "<li> Changes in the signal between these images are used to make inferences about what happened in the brain while the subject performed these tasks\n",
    "</ul>\n"
   ]
  },
  {
   "cell_type": "markdown",
   "metadata": {},
   "source": [
    "### fMRI Data"
   ]
  },
  {
   "cell_type": "markdown",
   "metadata": {},
   "source": [
    "fMRI data takes a set of images of the brain. Each image is as if the brain were fit into a box and that box were split into very small, identically sized units called \"voxels.\" These volume elements are the fundamental unit of fMRI data, much like pixels in a 2D picture. \n",
    "\n",
    "<b>Voxels</b>:\n",
    "<ul>\n",
    "<li> A spatial location\n",
    "<li> A number representing its intensity\n",
    "</ul>\n",
    "\n",
    "In any given experiment, several hundred <i>full brain images</i> are acquired (about one every 2 seconds). With each image being ~100,000 voxels, this results in a massive data undertaking. \n",
    "\n",
    "We can extract the intensities for a single voxel for each timepoint where in image was taken, and we can create a time series approximation of that region of the brain. \n",
    "<img src='timeseries.png'>"
   ]
  },
  {
   "cell_type": "markdown",
   "metadata": {},
   "source": [
    "Over all voxels, it is a very computationally heavy problem to determine which parts of the brain were involved in the task in question. We're looking at 100,000 time series at once.\n",
    "\n",
    "<ul>\n",
    "<li> Each image is about 100,000 voxels\n",
    "<li> Each experiment is hundreds of images\n",
    "<li> Each experiment will include usually 10-40 subjects\n",
    "<li> Each of these subjects may repeat the imaging more than once\n"
   ]
  },
  {
   "cell_type": "markdown",
   "metadata": {},
   "source": [
    "### fMRI Signal - BOLD Contrast"
   ]
  },
  {
   "cell_type": "markdown",
   "metadata": {},
   "source": [
    "<b>Blood Oxygenation Level Dependent</b>\n",
    "<ul>\n",
    "<li> Ratio of oxygenated to deoxygenated hemoglobin in blood\n",
    "<li> Measures metabolic demands of neurons, not neuronal activity directly\n",
    "<li> The <b>hemodynamic response function (HRF)</b> is used to represent the changes in this signal produced by neuronal metabolism.\n",
    "</ul>"
   ]
  },
  {
   "cell_type": "markdown",
   "metadata": {},
   "source": [
    "### Statistical Analysis of fMRI"
   ]
  },
  {
   "cell_type": "markdown",
   "metadata": {},
   "source": [
    "This is a massive data problem with a relatively weak signal and a complicated temporal and spatial noise-signal structure.\n",
    "\n",
    "The pipeline for processing the data for an experiment can look like this:\n",
    "<img src='pipeline.png'>\n"
   ]
  },
  {
   "cell_type": "markdown",
   "metadata": {},
   "source": [
    "### Goals of fMRI Data Analysis"
   ]
  },
  {
   "cell_type": "markdown",
   "metadata": {},
   "source": [
    "<b>Localization</b> - Determining which regions of the brain are active during a specific task. \n",
    "\n",
    "This is the \"brain mapping approach.\" We have some areas in the brain that are truly active during a task. This is the signal. We also will see a lot of activity in the brain that is not specific to the task, but that 'lights up' during the task. This is the noise. fMRI observes a mix of these two. We can use statistics to try and tease these two signals apart from the collected data.\n",
    "\n",
    "A common test is the <b>Massive Univariate analysis</b> which is essentially a t-test (adjusted for multiple comparisons) made at each voxel. \n",
    "\n",
    "<b>Note</b> we usually end up observing a small fraction of the areas that are truly active. \n",
    "\n",
    "<img src='signal.png'>"
   ]
  },
  {
   "cell_type": "markdown",
   "metadata": {},
   "source": [
    "<b>Connectivity</b> - Determining how various brain regions are connected to each other.\n",
    "\n",
    "This typically is synonymous with measuring correlations between brain regions over time, instead of measuring direct neural connections from point to point. \n",
    "\n",
    "<i>Functional Connectivity</i>\n",
    "<ul>\n",
    "<li>Seed-based: choose one region of the brain and look for what else correlates with it.\n",
    "</ul>\n",
    "\n",
    "<i>Effective Connectivity</i>\n",
    "<ul>\n",
    "<li>Path analysis, mediation\n",
    "<li>Granger 'causality'\n",
    "<li>Dynamic causal modeling (DCM)\n",
    "</ul>\n",
    "\n",
    "<i>Multivariate connectivity</i>\n",
    "<ul>\n",
    "<li>Independent/principal components\n",
    "<li>Graphical Models\n",
    "</ul>"
   ]
  },
  {
   "cell_type": "markdown",
   "metadata": {},
   "source": [
    "<b>Prediction</b> - Using a person's brain activity to predict their perceptions, behavior, or health status. (From a computational perspective this is similar to decoding brain activity)."
   ]
  },
  {
   "cell_type": "markdown",
   "metadata": {},
   "source": [
    "Applications:\n",
    "<ul>\n",
    "<li>Alzheimer's disease\n",
    "<li>Depression\n",
    "<li>Chronic pain\n",
    "<li>Anxiety\n",
    "<li>Parkinson's disease\n",
    "<li>Drug abuse\n",
    "<li>Acute pain\n",
    "<li>Emotion\n",
    "</ul>"
   ]
  }
 ],
 "metadata": {
  "kernelspec": {
   "display_name": "Python 3",
   "language": "python",
   "name": "python3"
  },
  "language_info": {
   "codemirror_mode": {
    "name": "ipython",
    "version": 3
   },
   "file_extension": ".py",
   "mimetype": "text/x-python",
   "name": "python",
   "nbconvert_exporter": "python",
   "pygments_lexer": "ipython3",
   "version": "3.6.1"
  }
 },
 "nbformat": 4,
 "nbformat_minor": 2
}
