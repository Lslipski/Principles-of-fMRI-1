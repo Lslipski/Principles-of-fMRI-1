{
 "cells": [
  {
   "cell_type": "markdown",
   "metadata": {},
   "source": [
    "# Module 12.2: Kinds of Designs Part 2"
   ]
  },
  {
   "cell_type": "markdown",
   "metadata": {},
   "source": [
    "### Examples (cont.)"
   ]
  },
  {
   "cell_type": "markdown",
   "metadata": {},
   "source": [
    "<b>Multiple Subtraction Design</b>: the idea here is to triangulate on the association between event type A and a similar process. Using multiple controls, the various tasks overlap with the task of interest in different ways, allowing us to discern the variables that are most relevant."
   ]
  },
  {
   "cell_type": "markdown",
   "metadata": {},
   "source": [
    "In the Fusiform Face Area (FFA) study (Kanwisher, 1997), faces were compared to other objects  like houses or animal faces. They could then compare how activated the FFA became when shown faces compared to when subjects saw other things. Over these multiple subtractions they were trying to show that the FFA is activated when subjects saw a face, but not when they did other things. "
   ]
  },
  {
   "cell_type": "markdown",
   "metadata": {},
   "source": [
    "<b>Process Overlap/Dissociation</b>: there are 2 types of studies to consider here, Double Dissociation and Separate Modifiability.\n",
    "<ul>\n",
    "<li><b>Double Dissociation</b>: in one part of the brain task A will activate more than task B, and in another part of the brain B will activate more than A. This implies that A and B are separate processes. However, due to nonlinear effects and the fact that the dissociation could be for trivial reasons, this is not strong evidence.</li>\n",
    "\n",
    "<li><b>Separate Modifiability</b>: this can be characterized as \"A but not B in one area, B but not A in another.\" Which implies truly separate processes in A and B, instead of just some decoupling.\n",
    "</li>\n",
    "</ul>"
   ]
  },
  {
   "cell_type": "markdown",
   "metadata": {},
   "source": [
    "Do physical pain and romantic rejection share common brain representations? (Woo et al. 2014, Nature Comms) This study compared patterns predictive of physical heat pain with viewing pictures of an ex-partner. \n",
    "\n",
    "We can identify a multivariable pattern in the dorsal Anterior Cingulate Cortex (dACC) that responds strongly to heat pain vs. warmth, but does not respond any more strongly to an ex-partner image. We can also identify a pattern that responds strongly to an ex-partner image vs. an image of a friend, but does not respond any more strongly to heat pain.\n",
    "<img src='heat.png'>"
   ]
  },
  {
   "cell_type": "markdown",
   "metadata": {},
   "source": [
    "with a very low pattern correlation (r=-0.4), these patterns are said to be <i>separately modifiable</i>, meaning the representations of heat pain and romantic rejections in the dACC are <i>not</i> shared."
   ]
  },
  {
   "cell_type": "markdown",
   "metadata": {},
   "source": [
    "<b>Factorial Designs</b>: can test for dissociations and interactions between factors. These enhance our inferential power.\n",
    "\n",
    "By testing and manipulating two factors at once, we can look for when the two factors dissociate or when the interact with one another. \n",
    "\n",
    "In this example, a task switching experiment was conducted with two factors that each had two levels. In the first, the subjects had to hold something in memory (internal switch), and in the second the subjects viewed objects on a screen (external switch) and then had to shift their attention. We can view this in a two-by-two table: <img src='twobytwo.png'>"
   ]
  },
  {
   "cell_type": "markdown",
   "metadata": {},
   "source": [
    "Something special happens when you have to make both an internal and external switch at once. By comparing A-D, we are able to discern these interactions."
   ]
  },
  {
   "cell_type": "markdown",
   "metadata": {},
   "source": [
    "<b>Parametric Modulation</b>: here we manipulate or measure variables <i>within person</i> in a parametric fashion, usually with 3 or more levels. This type of study provides stronger evidence than basic contrast designs regarding the specificty of activation. "
   ]
  },
  {
   "cell_type": "markdown",
   "metadata": {},
   "source": [
    "In this example, the hypothesis tested was that Dorsolateral Prefrontal Cortex (PFC) activity would increase with the complexity of an executive task (left). It also tested whether ventromedial PFC activation would increase when people were asked to give a dollar amount for different items and the value of the item was high (right). In both cases we saw increased PFC activation with both increased executive complexity and increased reported value respectively. <img src='pfctask.png'>"
   ]
  },
  {
   "cell_type": "markdown",
   "metadata": {},
   "source": [
    "<b>Note</b>: Parametric statistics assume that the sample data come from a larger population that follows a probability distribution that has a fixed set of parameters."
   ]
  }
 ],
 "metadata": {
  "kernelspec": {
   "display_name": "Python 3",
   "language": "python",
   "name": "python3"
  },
  "language_info": {
   "codemirror_mode": {
    "name": "ipython",
    "version": 3
   },
   "file_extension": ".py",
   "mimetype": "text/x-python",
   "name": "python",
   "nbconvert_exporter": "python",
   "pygments_lexer": "ipython3",
   "version": "3.6.1"
  }
 },
 "nbformat": 4,
 "nbformat_minor": 2
}
