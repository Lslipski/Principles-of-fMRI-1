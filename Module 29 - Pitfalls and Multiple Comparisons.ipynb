{
 "cells": [
  {
   "cell_type": "markdown",
   "metadata": {},
   "source": [
    "# Module 29: Pitfalls and Multiple Comparisons"
   ]
  },
  {
   "cell_type": "markdown",
   "metadata": {},
   "source": [
    "Imagine a situation where the simulated signal-noise looks like this:\n",
    "<img src='fdr1.png'>"
   ]
  },
  {
   "cell_type": "markdown",
   "metadata": {},
   "source": [
    "We can compare the sensitivity and specificity we get here using no correction for multiple comparisons, using the FWER adjustment alone, and using the FDR adjustment:\n",
    "<img src='fdr2.png'>"
   ]
  },
  {
   "cell_type": "markdown",
   "metadata": {},
   "source": [
    "We can see that we get a lot of false positives without correction, these results are not super useful. With the FWER adjustment alone, we only get 1 false positive in 10 images, which is quite good, but the sensitivity (white inside the box) is also very low. So this is not that useful either. \n",
    "\n",
    "Using the FDR control, we get lots of sensitivity AND a relatively low rate of false positives in the black outside the box."
   ]
  },
  {
   "cell_type": "markdown",
   "metadata": {},
   "source": [
    "### Cluster-level Inference"
   ]
  },
  {
   "cell_type": "markdown",
   "metadata": {},
   "source": [
    "This process is two steps:\n",
    "<ol>\n",
    "<li>First we define clusters by an arbitrary threshold $u_{clus}$\n",
    "<li>Then we retain any clusters larger than $\\alpha$-level threshold $k_{\\alpha}$"
   ]
  },
  {
   "cell_type": "markdown",
   "metadata": {},
   "source": [
    "This might mean that we have a very small number of contiguous voxels that have very high test statistics, but because the cluster is so small, we will not retain it. We might also have a large group of contiguous voxels that all have test statistics just barely above this threshold, $u_{clus}$. We <i>will</i> retain this cluster.\n",
    "<img src='cluster.png'>"
   ]
  },
  {
   "cell_type": "markdown",
   "metadata": {},
   "source": [
    "Clustering has better sensitivity for weak, distributed signals. However, because we are grouping voxels, there is worse spatial specificity. The null hypothesis of the entire cluster might be rejected, and this only means that one or more voxels in the cluster are active.\n",
    "\n",
    "Basically all you can say is that there is activity somewhere in this big blob, but you can't say where the activity is. "
   ]
  },
  {
   "cell_type": "markdown",
   "metadata": {},
   "source": [
    "### Threshold-Free Cluster Enhancement (TFCE)"
   ]
  },
  {
   "cell_type": "markdown",
   "metadata": {},
   "source": [
    "We can combine cluster size and cluster intensity information. Basically we take the integral of the magnitude of the test statistics times their cluster area, and see if it is above some threshold. It is then evaluated at multiple thresholds."
   ]
  },
  {
   "cell_type": "markdown",
   "metadata": {},
   "source": [
    "This can now be implemented using FSL's <i>Randomize</i> package.\n",
    "<img src='tfce.png'>"
   ]
  },
  {
   "cell_type": "markdown",
   "metadata": {},
   "source": [
    "### What are Publications Actually Using?"
   ]
  },
  {
   "cell_type": "markdown",
   "metadata": {},
   "source": [
    "<img src='pubuse.png'>"
   ]
  },
  {
   "cell_type": "markdown",
   "metadata": {},
   "source": [
    "(woo et al. 2014)"
   ]
  },
  {
   "cell_type": "markdown",
   "metadata": {},
   "source": [
    "### Uncorrected Thresholds"
   ]
  },
  {
   "cell_type": "markdown",
   "metadata": {},
   "source": [
    "Many published PET and fMRI studies use arbitrary uncorrected thresholds (e.g. p<0.001). This is likely because that the sample sizes available are small, so corrected thresholds are so stringent that power becomes very very low."
   ]
  },
  {
   "cell_type": "markdown",
   "metadata": {},
   "source": [
    "However, this is problematic when interpreting conclusions from individual studies because many activated regions may be false positives. \n",
    "\n",
    "Further, null findings are hard to disseminate, so it is difficult to refute the false positives established in the literature."
   ]
  },
  {
   "cell_type": "markdown",
   "metadata": {},
   "source": [
    "##### Extent Threshold"
   ]
  },
  {
   "cell_type": "markdown",
   "metadata": {},
   "source": [
    "Sometimes an arbitrary extent threshold is used where a voxel is only deemed truly active if it belongs to a cluster of k contiguous active voxels (e.g. p<0.001, 10 contiguous voxels). \n",
    "\n",
    "Unfortunately, this does not necessarily correct the problem because imaging data are spatially smooth and the chance of getting 10 false positives in an area may be quite high."
   ]
  },
  {
   "cell_type": "markdown",
   "metadata": {},
   "source": [
    "##### Example"
   ]
  },
  {
   "cell_type": "markdown",
   "metadata": {},
   "source": [
    "<img src='extent.png'>\n",
    "Activation maps with spatially correlated noise (like fMRI) thresholded at 3 different significance levels. Due to the smoothness, the false-positive activation regions are contiguous regions of multiple voxels. \n",
    "\n",
    "In other words, if one voxel is significant by chance, its neighbors are also likely to be significant by chance.\n",
    "\n",
    "**The Voxels are not independent.\n",
    "\n",
    "This is why it is not appropriate to impose arbitrary height and extent thresholds. This is too liberal. This technique does not provide family wise error rate control."
   ]
  },
  {
   "cell_type": "markdown",
   "metadata": {},
   "source": [
    "### Cluster-Extent Based Correction (including TFCE)"
   ]
  },
  {
   "cell_type": "markdown",
   "metadata": {},
   "source": [
    "<img src='clusterthreshold.png'>\n",
    "In the literature, people tend to use the threshold that is the default of whatever software package they are using."
   ]
  },
  {
   "cell_type": "markdown",
   "metadata": {},
   "source": [
    "So what is the impact of setting this thresholds so arbitrarily?"
   ]
  },
  {
   "cell_type": "markdown",
   "metadata": {},
   "source": [
    "<img src='clusterbrain.png'>\n",
    "Here we set a relatively low p-value, and we get two large blobs. All we really know is that at least one voxel somewhere in those blobs is truly significant. This really limits the specificity we're using fMRI for to begin with. "
   ]
  },
  {
   "cell_type": "markdown",
   "metadata": {},
   "source": [
    "The problem illustrated above is a common one. Because if we set a primary p-value threshold that is low (0.01), then the mean size of the cluster increases! Most findings will be larger than useful anatomical areas. Most of these voxels are actually not active. This is a really high (40-70%) false discovery rate."
   ]
  },
  {
   "cell_type": "markdown",
   "metadata": {},
   "source": [
    "Thresholding at 0.001 at the highest is good practice. The FWER is not controlled with just a low primary threshold.\n",
    "<img src='thresholding.png'>"
   ]
  },
  {
   "cell_type": "markdown",
   "metadata": {},
   "source": [
    "It makes sense to set a threshold that does not span giant anatomical regions."
   ]
  },
  {
   "cell_type": "markdown",
   "metadata": {},
   "source": [
    "### Summary"
   ]
  },
  {
   "cell_type": "markdown",
   "metadata": {},
   "source": [
    "<ul>\n",
    "<li>Multiple comparison methods\n",
    "    <ul>\n",
    "    <li>Uncorrected\n",
    "    <li>FWE\n",
    "    <li>FDR\n",
    "    <li>Cluster extent-based (FWE,FDR)\n",
    "    </ul>\n",
    "</ul>\n",
    "<ul>\n",
    "<li>Pitfalls\n",
    "    <ul>\n",
    "    <li>Uncorrected thresholds\n",
    "    <li>Cluster extant-based thresholds\n",
    "    </ul>\n",
    "</ul>"
   ]
  }
 ],
 "metadata": {
  "kernelspec": {
   "display_name": "Python 3",
   "language": "python",
   "name": "python3"
  },
  "language_info": {
   "codemirror_mode": {
    "name": "ipython",
    "version": 3
   },
   "file_extension": ".py",
   "mimetype": "text/x-python",
   "name": "python",
   "nbconvert_exporter": "python",
   "pygments_lexer": "ipython3",
   "version": "3.6.5"
  }
 },
 "nbformat": 4,
 "nbformat_minor": 2
}
