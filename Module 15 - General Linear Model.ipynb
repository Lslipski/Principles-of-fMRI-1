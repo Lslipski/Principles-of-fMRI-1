{
 "cells": [
  {
   "cell_type": "markdown",
   "metadata": {},
   "source": [
    "# Module 15: General Linear Model"
   ]
  },
  {
   "cell_type": "markdown",
   "metadata": {},
   "source": [
    "### Goals of Statistical Analysis"
   ]
  },
  {
   "cell_type": "markdown",
   "metadata": {},
   "source": [
    "<ul>\n",
    "<li>Localizing brain areas activated by the task\n",
    "<li>Determining networks corresponding to brain function\n",
    "<li>Making predictions about psychological or disease states\n",
    "</ul>"
   ]
  },
  {
   "cell_type": "markdown",
   "metadata": {},
   "source": [
    "Typically, two levels are analyzed: Within-subject (individual) and across-subject (group). these can be done seperately or together using a hierarchical model."
   ]
  },
  {
   "cell_type": "markdown",
   "metadata": {},
   "source": [
    "### General Linear Model"
   ]
  },
  {
   "cell_type": "markdown",
   "metadata": {},
   "source": [
    "The GLM approach treats data as a linear combination of model functions (predictors) plus noise (error). These model functions are assumed to have known shapes but their amplitudes (slopes) are unknown and need to be estimated. This framework encompasses many of the commonly used techniques in fMRI data analysis.\n",
    "<img src='glm.png'>"
   ]
  },
  {
   "cell_type": "markdown",
   "metadata": {},
   "source": [
    "Simple regression, ANOVA, Multiple Regression and a general linear model all have a closed form solution. However, some general linear models and the generalized linear models have iterative solutions which alternate between estimating the model parameters and estimating the error."
   ]
  },
  {
   "cell_type": "markdown",
   "metadata": {},
   "source": [
    "### Simple Regression"
   ]
  },
  {
   "cell_type": "markdown",
   "metadata": {},
   "source": [
    "A simple linear model with one predictor goes through 4 stages: 1.) Model specification 2.) estimation 3.) statistical inference and 4.) scientific interpretation\n",
    "\n",
    "<img src='simplereg.png'>"
   ]
  },
  {
   "cell_type": "markdown",
   "metadata": {},
   "source": [
    "<b>Note</b> the type of analysis depends on the number and type of dependent and independent variables. <img src='glmfam.png'>"
   ]
  },
  {
   "cell_type": "markdown",
   "metadata": {},
   "source": [
    "However, the type of analysis also depends on how many observations we have on each subject. If we have more than one, we need to deal with these \"repeated measures.\" <img src='repeatedmeas.png'>"
   ]
  },
  {
   "cell_type": "markdown",
   "metadata": {},
   "source": [
    "### The Mathematical structure of the GLM"
   ]
  },
  {
   "cell_type": "markdown",
   "metadata": {},
   "source": [
    "<img src='model.png'>"
   ]
  },
  {
   "cell_type": "markdown",
   "metadata": {},
   "source": [
    "Our goal is to solve for the vector of beta predictors.\n",
    "\n",
    "In practice, we have a vector of observed values, $y$. We then have our design matrix which consists of an intercept (constant)and a series of predictors. This is multiplied by the model parameter vector (betas) and the residuals (everything left over) are added: \n",
    "<img src='matrix.png'>"
   ]
  },
  {
   "cell_type": "markdown",
   "metadata": {},
   "source": [
    "### Example"
   ]
  },
  {
   "cell_type": "markdown",
   "metadata": {},
   "source": [
    "Does exercise predict life-span? Let's take a look (at fake data) while controlling for gender.\n",
    "\n",
    "We see that there seems to be a trend here <img src='lifespanplt.png'>"
   ]
  },
  {
   "cell_type": "markdown",
   "metadata": {},
   "source": [
    "But how do we model this data using GLM?\n",
    "<img src='matrix1.png'>"
   ]
  },
  {
   "cell_type": "markdown",
   "metadata": {},
   "source": [
    "This type of design would be called an ANCOVA design (Analysis of Covariance)."
   ]
  }
 ],
 "metadata": {
  "kernelspec": {
   "display_name": "Python 3",
   "language": "python",
   "name": "python3"
  },
  "language_info": {
   "codemirror_mode": {
    "name": "ipython",
    "version": 3
   },
   "file_extension": ".py",
   "mimetype": "text/x-python",
   "name": "python",
   "nbconvert_exporter": "python",
   "pygments_lexer": "ipython3",
   "version": "3.6.5"
  }
 },
 "nbformat": 4,
 "nbformat_minor": 2
}
