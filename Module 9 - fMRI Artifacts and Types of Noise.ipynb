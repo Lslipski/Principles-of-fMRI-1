{
 "cells": [
  {
   "cell_type": "markdown",
   "metadata": {},
   "source": [
    "# Module 9: fMRI Artifacts and Types of Noise"
   ]
  },
  {
   "cell_type": "markdown",
   "metadata": {},
   "source": [
    "### fMRI Noise"
   ]
  },
  {
   "cell_type": "markdown",
   "metadata": {},
   "source": [
    "Noise comes from both the hardware and the participants. Sources include:\n",
    "<ul>\n",
    "<li>Thermal motion of free electrons\n",
    "<li>Gradient and magnetic field instability\n",
    "<li>Head movement \n",
    "<li>Physiological effects, including heart rate and respiration and their effects on vasculature and C02 levels in the brain.\n",
    "</ul>\n",
    "\n",
    "These will appear as high frequency spikes, distortions in the image in certain time points, and low-frequency drifts and periodic fluctuations over time."
   ]
  },
  {
   "cell_type": "markdown",
   "metadata": {},
   "source": [
    "### How can we mitigate these effects?"
   ]
  },
  {
   "cell_type": "markdown",
   "metadata": {},
   "source": [
    "<b>Acquisition</b>\n",
    "<ul>\n",
    "<li>QA the <i>hardware</i> in the scanner \n",
    "<li>Choose acquisition and sequence/parameters specifically for your goal\n",
    "<li>Use specialized sequences (spin-echo, simultaneous multi-slice, z-shimming, etc.)\n",
    "<li>Minimize head movement\n",
    "</ul>\n",
    "\n",
    "<b>Analysis</b>\n",
    "<ul>\n",
    "<li>Look at the data as it is aquired to check for issues!\n",
    "<li>Outlier/artifact identification and correction software\n",
    "<li>Preprocessing to adjust for head movement and drift\n",
    "<li>Statistical procedures (robust regression, hierarchical modeling, etc.)\n",
    "<li> Model Low-frequency (slow) drift and periodic fluctuation over time\n",
    "</ul>"
   ]
  },
  {
   "cell_type": "markdown",
   "metadata": {},
   "source": [
    "### Common Acquisition Artifacts"
   ]
  },
  {
   "cell_type": "markdown",
   "metadata": {},
   "source": [
    "Six issues to always check for\n",
    "\n",
    "1.) Coverage is not what you intended<br>\n",
    "2.) RF noise and malformed images<br>\n",
    "3.) Transient gradient artifacts/spikes<br>\n",
    "4.) Ghosting<br>\n",
    "5.) Susceptibility artifacts/dropout (missing part of the image)<br>\n",
    "6.) Task-correlated head movement\n",
    "\n",
    "<img src='issues13.png'>\n",
    "<img src='issues46.png'>"
   ]
  },
  {
   "cell_type": "markdown",
   "metadata": {},
   "source": [
    "#### Artifact Details"
   ]
  },
  {
   "cell_type": "markdown",
   "metadata": {},
   "source": [
    "<b>Drift</b> is a slow change in voxel intensity over time present in the fMRI signal. This is caused by scanner instabilities (the effect is seen in cadavers and phantoms). We need to account for this effect both in preprocessing and during statistical analysis.\n",
    "\n",
    "Experimental conditions that vary slowly may look like drift. So experimental designs should include somewhat rapid alternations of stimulus on/off states. Below is a bad design.<img src='drift.png'>"
   ]
  },
  {
   "cell_type": "markdown",
   "metadata": {},
   "source": [
    "<b>Motion</b> from the subject moving during the experiment can typically be corrected during the preprocessing stage. However 'spin-history' artifacts may remain which are caused by through-plane motion and complex magnetic interactions. Statistical corrections for this are imperfect."
   ]
  },
  {
   "cell_type": "markdown",
   "metadata": {},
   "source": [
    "<b>Physiological noise</b> can be caused by respiration and heart beat at certain frequencies. This can be modeled statistically, but if the TR (time resolution) is too low, there will be problems with <i>aliasing</i>. For standard TR values of about 2 seconds, this type of noise often must remain in the data and gives rise to temporal autocorrelations (the correlation of a signal with a delayed copy of itself as a function of delay). "
   ]
  },
  {
   "cell_type": "markdown",
   "metadata": {},
   "source": [
    "<b>Aliasing</b> is when a periodic signal that occurs more rapidly than the sampling rate will appear to be happening at lower frequencies. They are said to be aliased back to a lower frequency. <img src='alias.png'><img src='alias2.png'>"
   ]
  },
  {
   "cell_type": "markdown",
   "metadata": {},
   "source": [
    "### Modeling fMRI Noise"
   ]
  },
  {
   "cell_type": "markdown",
   "metadata": {},
   "source": [
    "Low-frequency drift and image outliers can be removed prior to or during analysis, but it is impossible to remove or model all noise.\n",
    "\n",
    "<b>Note</b> a significant amount of autocorrelation, or non-independence of the observations over time, is usually present in the signal. In fMRI autoregressive (AR) or autoregressive moving-average (ARMA) processes are usually employed to model the autocorrelation.\n",
    "\n",
    "The effect of the autocorrelation will not be uniform across the brain, so that we can still make out different tissue types etc.<img src='ar2.png'>"
   ]
  }
 ],
 "metadata": {
  "kernelspec": {
   "display_name": "Python 3",
   "language": "python",
   "name": "python3"
  },
  "language_info": {
   "codemirror_mode": {
    "name": "ipython",
    "version": 3
   },
   "file_extension": ".py",
   "mimetype": "text/x-python",
   "name": "python",
   "nbconvert_exporter": "python",
   "pygments_lexer": "ipython3",
   "version": "3.6.1"
  }
 },
 "nbformat": 4,
 "nbformat_minor": 2
}
